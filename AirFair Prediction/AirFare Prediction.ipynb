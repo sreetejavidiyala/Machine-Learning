{
 "cells": [
  {
   "cell_type": "markdown",
   "metadata": {},
   "source": [
    "# AirFare Prediction using Python"
   ]
  },
  {
   "cell_type": "markdown",
   "metadata": {},
   "source": [
    "## 1. Introduction"
   ]
  },
  {
   "cell_type": "markdown",
   "metadata": {},
   "source": [
    "This notebook deals with the problem of airfare prediction. For this purpose a set of features characterizing a typical flight is considered, supposing that these features affect the price of an air ticket."
   ]
  },
  {
   "cell_type": "markdown",
   "metadata": {},
   "source": [
    "The dataset AirFaresData.csv containg real data that were collected between Q3-1996 and Q2-97 is used in which there are 17 variables to predict the price of the air ticket. "
   ]
  },
  {
   "cell_type": "markdown",
   "metadata": {},
   "source": [
    "## 2. Importing the packages and loading the data"
   ]
  },
  {
   "cell_type": "markdown",
   "metadata": {},
   "source": [
    "### 2.1. Importing the packages"
   ]
  },
  {
   "cell_type": "code",
   "execution_count": 56,
   "metadata": {},
   "outputs": [],
   "source": [
    "# library used for preprocessing the data set\n",
    "from sklearn import preprocessing\n",
    "# libraries used for data analysis\n",
    "import pandas as pd\n",
    "import numpy as np \n",
    "%matplotlib inline\n",
    "import matplotlib.pyplot as plt # to visualize the data\n",
    "import seaborn as sns # visualize the data\n",
    "from statsmodels.stats.outliers_influence import variance_inflation_factor # to find collinearity between variables\n",
    "from sklearn.model_selection import train_test_split # to split the data to train and test sets\n",
    "from sklearn.metrics import mean_squared_error,r2_score # to caoculate model evaluation metrics"
   ]
  },
  {
   "cell_type": "markdown",
   "metadata": {},
   "source": [
    "### 2.2. Loading the dataset "
   ]
  },
  {
   "cell_type": "markdown",
   "metadata": {},
   "source": [
    "#### Loading the AirFareData.csv into a pandas dataframe"
   ]
  },
  {
   "cell_type": "code",
   "execution_count": 2,
   "metadata": {},
   "outputs": [],
   "source": [
    "flight_data = pd.read_csv('AirfaresData.csv')"
   ]
  },
  {
   "cell_type": "code",
   "execution_count": 3,
   "metadata": {},
   "outputs": [
    {
     "data": {
      "text/plain": [
       "(638, 18)"
      ]
     },
     "execution_count": 3,
     "metadata": {},
     "output_type": "execute_result"
    }
   ],
   "source": [
    "flight_data.shape"
   ]
  },
  {
   "cell_type": "markdown",
   "metadata": {},
   "source": [
    "#### Viewing the first five record of the dataset usind head() function"
   ]
  },
  {
   "cell_type": "code",
   "execution_count": 4,
   "metadata": {},
   "outputs": [
    {
     "data": {
      "text/html": [
       "<div>\n",
       "<style scoped>\n",
       "    .dataframe tbody tr th:only-of-type {\n",
       "        vertical-align: middle;\n",
       "    }\n",
       "\n",
       "    .dataframe tbody tr th {\n",
       "        vertical-align: top;\n",
       "    }\n",
       "\n",
       "    .dataframe thead th {\n",
       "        text-align: right;\n",
       "    }\n",
       "</style>\n",
       "<table border=\"1\" class=\"dataframe\">\n",
       "  <thead>\n",
       "    <tr style=\"text-align: right;\">\n",
       "      <th></th>\n",
       "      <th>S_CODE</th>\n",
       "      <th>S_CITY</th>\n",
       "      <th>E_CODE</th>\n",
       "      <th>E_CITY</th>\n",
       "      <th>COUPON</th>\n",
       "      <th>NEW</th>\n",
       "      <th>VACATION</th>\n",
       "      <th>SW</th>\n",
       "      <th>HI</th>\n",
       "      <th>S_INCOME</th>\n",
       "      <th>E_INCOME</th>\n",
       "      <th>S_POP</th>\n",
       "      <th>E_POP</th>\n",
       "      <th>SLOT</th>\n",
       "      <th>GATE</th>\n",
       "      <th>DISTANCE</th>\n",
       "      <th>PAX</th>\n",
       "      <th>FARE</th>\n",
       "    </tr>\n",
       "  </thead>\n",
       "  <tbody>\n",
       "    <tr>\n",
       "      <th>0</th>\n",
       "      <td>*</td>\n",
       "      <td>Dallas/Fort Worth   TX</td>\n",
       "      <td>*</td>\n",
       "      <td>Amarillo            TX</td>\n",
       "      <td>1.00</td>\n",
       "      <td>3</td>\n",
       "      <td>No</td>\n",
       "      <td>Yes</td>\n",
       "      <td>5291.99</td>\n",
       "      <td>28637</td>\n",
       "      <td>21112</td>\n",
       "      <td>3036732</td>\n",
       "      <td>205711</td>\n",
       "      <td>Free</td>\n",
       "      <td>Free</td>\n",
       "      <td>312</td>\n",
       "      <td>7864</td>\n",
       "      <td>64.11</td>\n",
       "    </tr>\n",
       "    <tr>\n",
       "      <th>1</th>\n",
       "      <td>*</td>\n",
       "      <td>Atlanta             GA</td>\n",
       "      <td>*</td>\n",
       "      <td>Baltimore/Wash Intl MD</td>\n",
       "      <td>1.06</td>\n",
       "      <td>3</td>\n",
       "      <td>No</td>\n",
       "      <td>No</td>\n",
       "      <td>5419.16</td>\n",
       "      <td>26993</td>\n",
       "      <td>29838</td>\n",
       "      <td>3532657</td>\n",
       "      <td>7145897</td>\n",
       "      <td>Free</td>\n",
       "      <td>Free</td>\n",
       "      <td>576</td>\n",
       "      <td>8820</td>\n",
       "      <td>174.47</td>\n",
       "    </tr>\n",
       "    <tr>\n",
       "      <th>2</th>\n",
       "      <td>*</td>\n",
       "      <td>Boston              MA</td>\n",
       "      <td>*</td>\n",
       "      <td>Baltimore/Wash Intl MD</td>\n",
       "      <td>1.06</td>\n",
       "      <td>3</td>\n",
       "      <td>No</td>\n",
       "      <td>No</td>\n",
       "      <td>9185.28</td>\n",
       "      <td>30124</td>\n",
       "      <td>29838</td>\n",
       "      <td>5787293</td>\n",
       "      <td>7145897</td>\n",
       "      <td>Free</td>\n",
       "      <td>Free</td>\n",
       "      <td>364</td>\n",
       "      <td>6452</td>\n",
       "      <td>207.76</td>\n",
       "    </tr>\n",
       "    <tr>\n",
       "      <th>3</th>\n",
       "      <td>ORD</td>\n",
       "      <td>Chicago             IL</td>\n",
       "      <td>*</td>\n",
       "      <td>Baltimore/Wash Intl MD</td>\n",
       "      <td>1.06</td>\n",
       "      <td>3</td>\n",
       "      <td>No</td>\n",
       "      <td>Yes</td>\n",
       "      <td>2657.35</td>\n",
       "      <td>29260</td>\n",
       "      <td>29838</td>\n",
       "      <td>7830332</td>\n",
       "      <td>7145897</td>\n",
       "      <td>Controlled</td>\n",
       "      <td>Free</td>\n",
       "      <td>612</td>\n",
       "      <td>25144</td>\n",
       "      <td>85.47</td>\n",
       "    </tr>\n",
       "    <tr>\n",
       "      <th>4</th>\n",
       "      <td>MDW</td>\n",
       "      <td>Chicago             IL</td>\n",
       "      <td>*</td>\n",
       "      <td>Baltimore/Wash Intl MD</td>\n",
       "      <td>1.06</td>\n",
       "      <td>3</td>\n",
       "      <td>No</td>\n",
       "      <td>Yes</td>\n",
       "      <td>2657.35</td>\n",
       "      <td>29260</td>\n",
       "      <td>29838</td>\n",
       "      <td>7830332</td>\n",
       "      <td>7145897</td>\n",
       "      <td>Free</td>\n",
       "      <td>Free</td>\n",
       "      <td>612</td>\n",
       "      <td>25144</td>\n",
       "      <td>85.47</td>\n",
       "    </tr>\n",
       "  </tbody>\n",
       "</table>\n",
       "</div>"
      ],
      "text/plain": [
       "  S_CODE                  S_CITY E_CODE                  E_CITY  COUPON  NEW  \\\n",
       "0      *  Dallas/Fort Worth   TX      *  Amarillo            TX    1.00    3   \n",
       "1      *  Atlanta             GA      *  Baltimore/Wash Intl MD    1.06    3   \n",
       "2      *  Boston              MA      *  Baltimore/Wash Intl MD    1.06    3   \n",
       "3    ORD  Chicago             IL      *  Baltimore/Wash Intl MD    1.06    3   \n",
       "4    MDW  Chicago             IL      *  Baltimore/Wash Intl MD    1.06    3   \n",
       "\n",
       "  VACATION   SW       HI  S_INCOME  E_INCOME    S_POP    E_POP        SLOT  \\\n",
       "0       No  Yes  5291.99     28637     21112  3036732   205711        Free   \n",
       "1       No   No  5419.16     26993     29838  3532657  7145897        Free   \n",
       "2       No   No  9185.28     30124     29838  5787293  7145897        Free   \n",
       "3       No  Yes  2657.35     29260     29838  7830332  7145897  Controlled   \n",
       "4       No  Yes  2657.35     29260     29838  7830332  7145897        Free   \n",
       "\n",
       "   GATE  DISTANCE    PAX    FARE  \n",
       "0  Free       312   7864   64.11  \n",
       "1  Free       576   8820  174.47  \n",
       "2  Free       364   6452  207.76  \n",
       "3  Free       612  25144   85.47  \n",
       "4  Free       612  25144   85.47  "
      ]
     },
     "execution_count": 4,
     "metadata": {},
     "output_type": "execute_result"
    }
   ],
   "source": [
    "flight_data.head()"
   ]
  },
  {
   "cell_type": "markdown",
   "metadata": {},
   "source": [
    "### Variable Description"
   ]
  },
  {
   "cell_type": "markdown",
   "metadata": {},
   "source": [
    "<b>Which features are categorical?</b>\n",
    "These values classify the samples into sets of similar samples. Within categorical features are the values nominal, ordinal, ratio, or interval based? Among other things this helps us select the appropriate plots for visualization.\n",
    "\n",
    "<b>Categorical Variable:</b> S_CODE,SCITY,E_CODE,E_CITY,NEW,VACATION,SW,SLOT,GATE\n",
    "\n",
    "<b>Which features are numerical?</b>\n",
    "Which features are numerical? These values change from sample to sample. Within numerical features are the values discrete, continuous, or timeseries based? Among other things this helps us select the appropriate plots for visualization.\n",
    "\n",
    "<b>Numerical Variable: </b>COUPON,HI,S_INCOME,E_INCOME,S_POP,E_POP,DISTANCE,PAX,FARE"
   ]
  },
  {
   "cell_type": "markdown",
   "metadata": {},
   "source": [
    "#### The above are the first five values of each attribute in the dataset<br>\n",
    "There are 18 attributes in the dataset and the description of attributes is below:"
   ]
  },
  {
   "cell_type": "markdown",
   "metadata": {},
   "source": [
    "<strong>S_CODE : </strong>starting airport’s code<br>\n",
    "<strong>S_CITY : </strong>starting city<br>\n",
    "<strong>E_CODE : </strong>ending airport’s code<br>\n",
    "<strong>E_CITY : </strong>ending city<br>\n",
    "<strong>COUPON : </strong>average number of coupons for that route<br>\n",
    "<strong>NEW : </strong>number of new carriers entering that route <br>\n",
    "<strong>VACATION : </strong>whether a vacation route (Yes) or not (No)<br>\n",
    "<strong>SW : </strong>whether Southwest Airlines serves that route (Yes) or not (No)<br>\n",
    "<strong>HI : </strong>Herfindel Index – measure of market concentration (refer to BMGT 681)<br>\n",
    "<strong>S_INCOME : </strong>starting city’s average personal income<br>\n",
    "<strong>E_INCOME : </strong>ending city’s average personal income<br>\n",
    "<strong>S_POP: </strong>starting city’s population<br>\n",
    "<strong>E_POP : </strong>ending city’s population<br>\n",
    "<strong>SLOT : </strong>whether either endpoint airport is slot controlled or not(measure of airport congestion)<br>\n",
    "<strong>GATE : </strong>whether either endpoint airport has gate constraints or not(measure of airport congestion)<br>\n",
    "<strong>DISTANCE : </strong>distance between two endpoint airports in miles<br>\n",
    "<strong>PAX : </strong>number of passengers on that route during period of data collection<br>\n",
    "<strong>FARE : </strong>average fare on that route<br>"
   ]
  },
  {
   "cell_type": "markdown",
   "metadata": {},
   "source": [
    "## 3. Analize the data"
   ]
  },
  {
   "cell_type": "markdown",
   "metadata": {},
   "source": [
    "### 3.1. Describe data"
   ]
  },
  {
   "cell_type": "markdown",
   "metadata": {},
   "source": [
    "#### Describing the details of the numerical variables using describe()"
   ]
  },
  {
   "cell_type": "code",
   "execution_count": 5,
   "metadata": {},
   "outputs": [
    {
     "data": {
      "text/html": [
       "<div>\n",
       "<style scoped>\n",
       "    .dataframe tbody tr th:only-of-type {\n",
       "        vertical-align: middle;\n",
       "    }\n",
       "\n",
       "    .dataframe tbody tr th {\n",
       "        vertical-align: top;\n",
       "    }\n",
       "\n",
       "    .dataframe thead th {\n",
       "        text-align: right;\n",
       "    }\n",
       "</style>\n",
       "<table border=\"1\" class=\"dataframe\">\n",
       "  <thead>\n",
       "    <tr style=\"text-align: right;\">\n",
       "      <th></th>\n",
       "      <th>COUPON</th>\n",
       "      <th>NEW</th>\n",
       "      <th>HI</th>\n",
       "      <th>S_INCOME</th>\n",
       "      <th>E_INCOME</th>\n",
       "      <th>S_POP</th>\n",
       "      <th>E_POP</th>\n",
       "      <th>DISTANCE</th>\n",
       "      <th>PAX</th>\n",
       "      <th>FARE</th>\n",
       "    </tr>\n",
       "  </thead>\n",
       "  <tbody>\n",
       "    <tr>\n",
       "      <th>count</th>\n",
       "      <td>638.000000</td>\n",
       "      <td>638.000000</td>\n",
       "      <td>638.000000</td>\n",
       "      <td>638.000000</td>\n",
       "      <td>638.000000</td>\n",
       "      <td>6.380000e+02</td>\n",
       "      <td>6.380000e+02</td>\n",
       "      <td>638.000000</td>\n",
       "      <td>638.000000</td>\n",
       "      <td>638.000000</td>\n",
       "    </tr>\n",
       "    <tr>\n",
       "      <th>mean</th>\n",
       "      <td>1.202335</td>\n",
       "      <td>2.753918</td>\n",
       "      <td>4442.141129</td>\n",
       "      <td>27759.860502</td>\n",
       "      <td>27663.727273</td>\n",
       "      <td>4.557004e+06</td>\n",
       "      <td>3.194503e+06</td>\n",
       "      <td>975.653605</td>\n",
       "      <td>12782.214734</td>\n",
       "      <td>160.876677</td>\n",
       "    </tr>\n",
       "    <tr>\n",
       "      <th>std</th>\n",
       "      <td>0.203821</td>\n",
       "      <td>0.760448</td>\n",
       "      <td>1724.267051</td>\n",
       "      <td>3596.207837</td>\n",
       "      <td>4611.325018</td>\n",
       "      <td>3.010985e+06</td>\n",
       "      <td>2.735604e+06</td>\n",
       "      <td>646.242403</td>\n",
       "      <td>13202.228860</td>\n",
       "      <td>76.022436</td>\n",
       "    </tr>\n",
       "    <tr>\n",
       "      <th>min</th>\n",
       "      <td>1.000000</td>\n",
       "      <td>0.000000</td>\n",
       "      <td>1230.480000</td>\n",
       "      <td>14600.000000</td>\n",
       "      <td>14600.000000</td>\n",
       "      <td>2.983800e+04</td>\n",
       "      <td>1.117450e+05</td>\n",
       "      <td>114.000000</td>\n",
       "      <td>1504.000000</td>\n",
       "      <td>42.470000</td>\n",
       "    </tr>\n",
       "    <tr>\n",
       "      <th>25%</th>\n",
       "      <td>1.040000</td>\n",
       "      <td>3.000000</td>\n",
       "      <td>3090.137500</td>\n",
       "      <td>24706.000000</td>\n",
       "      <td>23903.000000</td>\n",
       "      <td>1.862106e+06</td>\n",
       "      <td>1.228816e+06</td>\n",
       "      <td>455.000000</td>\n",
       "      <td>5328.500000</td>\n",
       "      <td>106.290000</td>\n",
       "    </tr>\n",
       "    <tr>\n",
       "      <th>50%</th>\n",
       "      <td>1.150000</td>\n",
       "      <td>3.000000</td>\n",
       "      <td>4208.185000</td>\n",
       "      <td>28637.000000</td>\n",
       "      <td>26409.000000</td>\n",
       "      <td>3.532657e+06</td>\n",
       "      <td>2.195215e+06</td>\n",
       "      <td>850.000000</td>\n",
       "      <td>7792.000000</td>\n",
       "      <td>144.600000</td>\n",
       "    </tr>\n",
       "    <tr>\n",
       "      <th>75%</th>\n",
       "      <td>1.297500</td>\n",
       "      <td>3.000000</td>\n",
       "      <td>5480.575000</td>\n",
       "      <td>29693.500000</td>\n",
       "      <td>31981.000000</td>\n",
       "      <td>7.830332e+06</td>\n",
       "      <td>4.549784e+06</td>\n",
       "      <td>1306.250000</td>\n",
       "      <td>14090.500000</td>\n",
       "      <td>209.350000</td>\n",
       "    </tr>\n",
       "    <tr>\n",
       "      <th>max</th>\n",
       "      <td>1.940000</td>\n",
       "      <td>3.000000</td>\n",
       "      <td>10000.000000</td>\n",
       "      <td>38813.000000</td>\n",
       "      <td>38813.000000</td>\n",
       "      <td>9.056076e+06</td>\n",
       "      <td>9.056076e+06</td>\n",
       "      <td>2764.000000</td>\n",
       "      <td>73892.000000</td>\n",
       "      <td>402.020000</td>\n",
       "    </tr>\n",
       "  </tbody>\n",
       "</table>\n",
       "</div>"
      ],
      "text/plain": [
       "           COUPON         NEW            HI      S_INCOME      E_INCOME  \\\n",
       "count  638.000000  638.000000    638.000000    638.000000    638.000000   \n",
       "mean     1.202335    2.753918   4442.141129  27759.860502  27663.727273   \n",
       "std      0.203821    0.760448   1724.267051   3596.207837   4611.325018   \n",
       "min      1.000000    0.000000   1230.480000  14600.000000  14600.000000   \n",
       "25%      1.040000    3.000000   3090.137500  24706.000000  23903.000000   \n",
       "50%      1.150000    3.000000   4208.185000  28637.000000  26409.000000   \n",
       "75%      1.297500    3.000000   5480.575000  29693.500000  31981.000000   \n",
       "max      1.940000    3.000000  10000.000000  38813.000000  38813.000000   \n",
       "\n",
       "              S_POP         E_POP     DISTANCE           PAX        FARE  \n",
       "count  6.380000e+02  6.380000e+02   638.000000    638.000000  638.000000  \n",
       "mean   4.557004e+06  3.194503e+06   975.653605  12782.214734  160.876677  \n",
       "std    3.010985e+06  2.735604e+06   646.242403  13202.228860   76.022436  \n",
       "min    2.983800e+04  1.117450e+05   114.000000   1504.000000   42.470000  \n",
       "25%    1.862106e+06  1.228816e+06   455.000000   5328.500000  106.290000  \n",
       "50%    3.532657e+06  2.195215e+06   850.000000   7792.000000  144.600000  \n",
       "75%    7.830332e+06  4.549784e+06  1306.250000  14090.500000  209.350000  \n",
       "max    9.056076e+06  9.056076e+06  2764.000000  73892.000000  402.020000  "
      ]
     },
     "execution_count": 5,
     "metadata": {},
     "output_type": "execute_result"
    }
   ],
   "source": [
    "flight_data.describe()"
   ]
  },
  {
   "cell_type": "markdown",
   "metadata": {},
   "source": [
    "#### The output shows that there are 638 records in the dataset and the mean,standard deviation,minimum and maximum values for each column of the dataset."
   ]
  },
  {
   "cell_type": "markdown",
   "metadata": {},
   "source": [
    "### 3.2. Data Types of the variables"
   ]
  },
  {
   "cell_type": "markdown",
   "metadata": {},
   "source": [
    "#### info() can be used to describe the datatypes of each variable"
   ]
  },
  {
   "cell_type": "code",
   "execution_count": 6,
   "metadata": {},
   "outputs": [
    {
     "name": "stdout",
     "output_type": "stream",
     "text": [
      "<class 'pandas.core.frame.DataFrame'>\n",
      "RangeIndex: 638 entries, 0 to 637\n",
      "Data columns (total 18 columns):\n",
      "S_CODE      638 non-null object\n",
      "S_CITY      638 non-null object\n",
      "E_CODE      638 non-null object\n",
      "E_CITY      638 non-null object\n",
      "COUPON      638 non-null float64\n",
      "NEW         638 non-null int64\n",
      "VACATION    638 non-null object\n",
      "SW          638 non-null object\n",
      "HI          638 non-null float64\n",
      "S_INCOME    638 non-null int64\n",
      "E_INCOME    638 non-null int64\n",
      "S_POP       638 non-null int64\n",
      "E_POP       638 non-null int64\n",
      "SLOT        638 non-null object\n",
      "GATE        638 non-null object\n",
      "DISTANCE    638 non-null int64\n",
      "PAX         638 non-null int64\n",
      "FARE        638 non-null float64\n",
      "dtypes: float64(3), int64(7), object(8)\n",
      "memory usage: 89.8+ KB\n"
     ]
    }
   ],
   "source": [
    "flight_data.info()"
   ]
  },
  {
   "cell_type": "markdown",
   "metadata": {},
   "source": [
    "#### there are 3 types of datatypes present in the dataset i.e float64, int64, object."
   ]
  },
  {
   "cell_type": "markdown",
   "metadata": {},
   "source": [
    "## 4. Data Preprocessing"
   ]
  },
  {
   "cell_type": "markdown",
   "metadata": {},
   "source": [
    "Pre-processing refers to the transformations applied to our data before feeding it to the algorithm. "
   ]
  },
  {
   "cell_type": "markdown",
   "metadata": {},
   "source": [
    "#### using preprocessing.LableEncoder() from scikit learn library the data present in the 'SLOT' is transformed to numeric data"
   ]
  },
  {
   "cell_type": "code",
   "execution_count": 7,
   "metadata": {},
   "outputs": [],
   "source": [
    "le_slot=preprocessing.LabelEncoder()\n",
    "flight_data['SLOT']=le_slot.fit_transform(flight_data['SLOT'].astype(str))"
   ]
  },
  {
   "cell_type": "code",
   "execution_count": 8,
   "metadata": {},
   "outputs": [
    {
     "data": {
      "text/html": [
       "<div>\n",
       "<style scoped>\n",
       "    .dataframe tbody tr th:only-of-type {\n",
       "        vertical-align: middle;\n",
       "    }\n",
       "\n",
       "    .dataframe tbody tr th {\n",
       "        vertical-align: top;\n",
       "    }\n",
       "\n",
       "    .dataframe thead th {\n",
       "        text-align: right;\n",
       "    }\n",
       "</style>\n",
       "<table border=\"1\" class=\"dataframe\">\n",
       "  <thead>\n",
       "    <tr style=\"text-align: right;\">\n",
       "      <th></th>\n",
       "      <th>S_CODE</th>\n",
       "      <th>S_CITY</th>\n",
       "      <th>E_CODE</th>\n",
       "      <th>E_CITY</th>\n",
       "      <th>COUPON</th>\n",
       "      <th>NEW</th>\n",
       "      <th>VACATION</th>\n",
       "      <th>SW</th>\n",
       "      <th>HI</th>\n",
       "      <th>S_INCOME</th>\n",
       "      <th>E_INCOME</th>\n",
       "      <th>S_POP</th>\n",
       "      <th>E_POP</th>\n",
       "      <th>SLOT</th>\n",
       "      <th>GATE</th>\n",
       "      <th>DISTANCE</th>\n",
       "      <th>PAX</th>\n",
       "      <th>FARE</th>\n",
       "    </tr>\n",
       "  </thead>\n",
       "  <tbody>\n",
       "    <tr>\n",
       "      <th>0</th>\n",
       "      <td>*</td>\n",
       "      <td>Dallas/Fort Worth   TX</td>\n",
       "      <td>*</td>\n",
       "      <td>Amarillo            TX</td>\n",
       "      <td>1.00</td>\n",
       "      <td>3</td>\n",
       "      <td>No</td>\n",
       "      <td>Yes</td>\n",
       "      <td>5291.99</td>\n",
       "      <td>28637</td>\n",
       "      <td>21112</td>\n",
       "      <td>3036732</td>\n",
       "      <td>205711</td>\n",
       "      <td>1</td>\n",
       "      <td>Free</td>\n",
       "      <td>312</td>\n",
       "      <td>7864</td>\n",
       "      <td>64.11</td>\n",
       "    </tr>\n",
       "    <tr>\n",
       "      <th>1</th>\n",
       "      <td>*</td>\n",
       "      <td>Atlanta             GA</td>\n",
       "      <td>*</td>\n",
       "      <td>Baltimore/Wash Intl MD</td>\n",
       "      <td>1.06</td>\n",
       "      <td>3</td>\n",
       "      <td>No</td>\n",
       "      <td>No</td>\n",
       "      <td>5419.16</td>\n",
       "      <td>26993</td>\n",
       "      <td>29838</td>\n",
       "      <td>3532657</td>\n",
       "      <td>7145897</td>\n",
       "      <td>1</td>\n",
       "      <td>Free</td>\n",
       "      <td>576</td>\n",
       "      <td>8820</td>\n",
       "      <td>174.47</td>\n",
       "    </tr>\n",
       "    <tr>\n",
       "      <th>2</th>\n",
       "      <td>*</td>\n",
       "      <td>Boston              MA</td>\n",
       "      <td>*</td>\n",
       "      <td>Baltimore/Wash Intl MD</td>\n",
       "      <td>1.06</td>\n",
       "      <td>3</td>\n",
       "      <td>No</td>\n",
       "      <td>No</td>\n",
       "      <td>9185.28</td>\n",
       "      <td>30124</td>\n",
       "      <td>29838</td>\n",
       "      <td>5787293</td>\n",
       "      <td>7145897</td>\n",
       "      <td>1</td>\n",
       "      <td>Free</td>\n",
       "      <td>364</td>\n",
       "      <td>6452</td>\n",
       "      <td>207.76</td>\n",
       "    </tr>\n",
       "    <tr>\n",
       "      <th>3</th>\n",
       "      <td>ORD</td>\n",
       "      <td>Chicago             IL</td>\n",
       "      <td>*</td>\n",
       "      <td>Baltimore/Wash Intl MD</td>\n",
       "      <td>1.06</td>\n",
       "      <td>3</td>\n",
       "      <td>No</td>\n",
       "      <td>Yes</td>\n",
       "      <td>2657.35</td>\n",
       "      <td>29260</td>\n",
       "      <td>29838</td>\n",
       "      <td>7830332</td>\n",
       "      <td>7145897</td>\n",
       "      <td>0</td>\n",
       "      <td>Free</td>\n",
       "      <td>612</td>\n",
       "      <td>25144</td>\n",
       "      <td>85.47</td>\n",
       "    </tr>\n",
       "    <tr>\n",
       "      <th>4</th>\n",
       "      <td>MDW</td>\n",
       "      <td>Chicago             IL</td>\n",
       "      <td>*</td>\n",
       "      <td>Baltimore/Wash Intl MD</td>\n",
       "      <td>1.06</td>\n",
       "      <td>3</td>\n",
       "      <td>No</td>\n",
       "      <td>Yes</td>\n",
       "      <td>2657.35</td>\n",
       "      <td>29260</td>\n",
       "      <td>29838</td>\n",
       "      <td>7830332</td>\n",
       "      <td>7145897</td>\n",
       "      <td>1</td>\n",
       "      <td>Free</td>\n",
       "      <td>612</td>\n",
       "      <td>25144</td>\n",
       "      <td>85.47</td>\n",
       "    </tr>\n",
       "  </tbody>\n",
       "</table>\n",
       "</div>"
      ],
      "text/plain": [
       "  S_CODE                  S_CITY E_CODE                  E_CITY  COUPON  NEW  \\\n",
       "0      *  Dallas/Fort Worth   TX      *  Amarillo            TX    1.00    3   \n",
       "1      *  Atlanta             GA      *  Baltimore/Wash Intl MD    1.06    3   \n",
       "2      *  Boston              MA      *  Baltimore/Wash Intl MD    1.06    3   \n",
       "3    ORD  Chicago             IL      *  Baltimore/Wash Intl MD    1.06    3   \n",
       "4    MDW  Chicago             IL      *  Baltimore/Wash Intl MD    1.06    3   \n",
       "\n",
       "  VACATION   SW       HI  S_INCOME  E_INCOME    S_POP    E_POP  SLOT  GATE  \\\n",
       "0       No  Yes  5291.99     28637     21112  3036732   205711     1  Free   \n",
       "1       No   No  5419.16     26993     29838  3532657  7145897     1  Free   \n",
       "2       No   No  9185.28     30124     29838  5787293  7145897     1  Free   \n",
       "3       No  Yes  2657.35     29260     29838  7830332  7145897     0  Free   \n",
       "4       No  Yes  2657.35     29260     29838  7830332  7145897     1  Free   \n",
       "\n",
       "   DISTANCE    PAX    FARE  \n",
       "0       312   7864   64.11  \n",
       "1       576   8820  174.47  \n",
       "2       364   6452  207.76  \n",
       "3       612  25144   85.47  \n",
       "4       612  25144   85.47  "
      ]
     },
     "execution_count": 8,
     "metadata": {},
     "output_type": "execute_result"
    }
   ],
   "source": [
    "flight_data.head()"
   ]
  },
  {
   "cell_type": "markdown",
   "metadata": {},
   "source": [
    "#### In the above output SLOT=1 represents 'Free' and SLOT=0 represents 'controlled'"
   ]
  },
  {
   "cell_type": "code",
   "execution_count": 9,
   "metadata": {},
   "outputs": [
    {
     "data": {
      "text/plain": [
       "array(['Controlled', 'Free'], dtype=object)"
      ]
     },
     "execution_count": 9,
     "metadata": {},
     "output_type": "execute_result"
    }
   ],
   "source": [
    "le_slot.classes_"
   ]
  },
  {
   "cell_type": "markdown",
   "metadata": {},
   "source": [
    "#### The above out put displays the unique classes presentin the lable encoder of SLOT variable"
   ]
  },
  {
   "cell_type": "markdown",
   "metadata": {},
   "source": [
    "#### using preprocessing.LableEncoder() from scikit learn library the data present in the 'GATE' is transformed to numeric data"
   ]
  },
  {
   "cell_type": "code",
   "execution_count": 10,
   "metadata": {},
   "outputs": [],
   "source": [
    "le_gate=preprocessing.LabelEncoder()\n",
    "flight_data['GATE']=le_gate.fit_transform(flight_data['GATE'].astype(str))"
   ]
  },
  {
   "cell_type": "code",
   "execution_count": 11,
   "metadata": {},
   "outputs": [
    {
     "data": {
      "text/plain": [
       "array(['Constrained', 'Free'], dtype=object)"
      ]
     },
     "execution_count": 11,
     "metadata": {},
     "output_type": "execute_result"
    }
   ],
   "source": [
    "le_gate.classes_"
   ]
  },
  {
   "cell_type": "code",
   "execution_count": 12,
   "metadata": {},
   "outputs": [
    {
     "data": {
      "text/html": [
       "<div>\n",
       "<style scoped>\n",
       "    .dataframe tbody tr th:only-of-type {\n",
       "        vertical-align: middle;\n",
       "    }\n",
       "\n",
       "    .dataframe tbody tr th {\n",
       "        vertical-align: top;\n",
       "    }\n",
       "\n",
       "    .dataframe thead th {\n",
       "        text-align: right;\n",
       "    }\n",
       "</style>\n",
       "<table border=\"1\" class=\"dataframe\">\n",
       "  <thead>\n",
       "    <tr style=\"text-align: right;\">\n",
       "      <th></th>\n",
       "      <th>S_CODE</th>\n",
       "      <th>S_CITY</th>\n",
       "      <th>E_CODE</th>\n",
       "      <th>E_CITY</th>\n",
       "      <th>COUPON</th>\n",
       "      <th>NEW</th>\n",
       "      <th>VACATION</th>\n",
       "      <th>SW</th>\n",
       "      <th>HI</th>\n",
       "      <th>S_INCOME</th>\n",
       "      <th>E_INCOME</th>\n",
       "      <th>S_POP</th>\n",
       "      <th>E_POP</th>\n",
       "      <th>SLOT</th>\n",
       "      <th>GATE</th>\n",
       "      <th>DISTANCE</th>\n",
       "      <th>PAX</th>\n",
       "      <th>FARE</th>\n",
       "    </tr>\n",
       "  </thead>\n",
       "  <tbody>\n",
       "    <tr>\n",
       "      <th>0</th>\n",
       "      <td>*</td>\n",
       "      <td>Dallas/Fort Worth   TX</td>\n",
       "      <td>*</td>\n",
       "      <td>Amarillo            TX</td>\n",
       "      <td>1.00</td>\n",
       "      <td>3</td>\n",
       "      <td>No</td>\n",
       "      <td>Yes</td>\n",
       "      <td>5291.99</td>\n",
       "      <td>28637</td>\n",
       "      <td>21112</td>\n",
       "      <td>3036732</td>\n",
       "      <td>205711</td>\n",
       "      <td>1</td>\n",
       "      <td>1</td>\n",
       "      <td>312</td>\n",
       "      <td>7864</td>\n",
       "      <td>64.11</td>\n",
       "    </tr>\n",
       "    <tr>\n",
       "      <th>1</th>\n",
       "      <td>*</td>\n",
       "      <td>Atlanta             GA</td>\n",
       "      <td>*</td>\n",
       "      <td>Baltimore/Wash Intl MD</td>\n",
       "      <td>1.06</td>\n",
       "      <td>3</td>\n",
       "      <td>No</td>\n",
       "      <td>No</td>\n",
       "      <td>5419.16</td>\n",
       "      <td>26993</td>\n",
       "      <td>29838</td>\n",
       "      <td>3532657</td>\n",
       "      <td>7145897</td>\n",
       "      <td>1</td>\n",
       "      <td>1</td>\n",
       "      <td>576</td>\n",
       "      <td>8820</td>\n",
       "      <td>174.47</td>\n",
       "    </tr>\n",
       "    <tr>\n",
       "      <th>2</th>\n",
       "      <td>*</td>\n",
       "      <td>Boston              MA</td>\n",
       "      <td>*</td>\n",
       "      <td>Baltimore/Wash Intl MD</td>\n",
       "      <td>1.06</td>\n",
       "      <td>3</td>\n",
       "      <td>No</td>\n",
       "      <td>No</td>\n",
       "      <td>9185.28</td>\n",
       "      <td>30124</td>\n",
       "      <td>29838</td>\n",
       "      <td>5787293</td>\n",
       "      <td>7145897</td>\n",
       "      <td>1</td>\n",
       "      <td>1</td>\n",
       "      <td>364</td>\n",
       "      <td>6452</td>\n",
       "      <td>207.76</td>\n",
       "    </tr>\n",
       "    <tr>\n",
       "      <th>3</th>\n",
       "      <td>ORD</td>\n",
       "      <td>Chicago             IL</td>\n",
       "      <td>*</td>\n",
       "      <td>Baltimore/Wash Intl MD</td>\n",
       "      <td>1.06</td>\n",
       "      <td>3</td>\n",
       "      <td>No</td>\n",
       "      <td>Yes</td>\n",
       "      <td>2657.35</td>\n",
       "      <td>29260</td>\n",
       "      <td>29838</td>\n",
       "      <td>7830332</td>\n",
       "      <td>7145897</td>\n",
       "      <td>0</td>\n",
       "      <td>1</td>\n",
       "      <td>612</td>\n",
       "      <td>25144</td>\n",
       "      <td>85.47</td>\n",
       "    </tr>\n",
       "    <tr>\n",
       "      <th>4</th>\n",
       "      <td>MDW</td>\n",
       "      <td>Chicago             IL</td>\n",
       "      <td>*</td>\n",
       "      <td>Baltimore/Wash Intl MD</td>\n",
       "      <td>1.06</td>\n",
       "      <td>3</td>\n",
       "      <td>No</td>\n",
       "      <td>Yes</td>\n",
       "      <td>2657.35</td>\n",
       "      <td>29260</td>\n",
       "      <td>29838</td>\n",
       "      <td>7830332</td>\n",
       "      <td>7145897</td>\n",
       "      <td>1</td>\n",
       "      <td>1</td>\n",
       "      <td>612</td>\n",
       "      <td>25144</td>\n",
       "      <td>85.47</td>\n",
       "    </tr>\n",
       "  </tbody>\n",
       "</table>\n",
       "</div>"
      ],
      "text/plain": [
       "  S_CODE                  S_CITY E_CODE                  E_CITY  COUPON  NEW  \\\n",
       "0      *  Dallas/Fort Worth   TX      *  Amarillo            TX    1.00    3   \n",
       "1      *  Atlanta             GA      *  Baltimore/Wash Intl MD    1.06    3   \n",
       "2      *  Boston              MA      *  Baltimore/Wash Intl MD    1.06    3   \n",
       "3    ORD  Chicago             IL      *  Baltimore/Wash Intl MD    1.06    3   \n",
       "4    MDW  Chicago             IL      *  Baltimore/Wash Intl MD    1.06    3   \n",
       "\n",
       "  VACATION   SW       HI  S_INCOME  E_INCOME    S_POP    E_POP  SLOT  GATE  \\\n",
       "0       No  Yes  5291.99     28637     21112  3036732   205711     1     1   \n",
       "1       No   No  5419.16     26993     29838  3532657  7145897     1     1   \n",
       "2       No   No  9185.28     30124     29838  5787293  7145897     1     1   \n",
       "3       No  Yes  2657.35     29260     29838  7830332  7145897     0     1   \n",
       "4       No  Yes  2657.35     29260     29838  7830332  7145897     1     1   \n",
       "\n",
       "   DISTANCE    PAX    FARE  \n",
       "0       312   7864   64.11  \n",
       "1       576   8820  174.47  \n",
       "2       364   6452  207.76  \n",
       "3       612  25144   85.47  \n",
       "4       612  25144   85.47  "
      ]
     },
     "execution_count": 12,
     "metadata": {},
     "output_type": "execute_result"
    }
   ],
   "source": [
    "flight_data.head()"
   ]
  },
  {
   "cell_type": "markdown",
   "metadata": {},
   "source": [
    "#### In the above output GATE=1 represents 'Free' and GATE=0 represents 'Constrained'"
   ]
  },
  {
   "cell_type": "markdown",
   "metadata": {},
   "source": [
    "#### using preprocessing.LableEncoder() from scikit learn library the data present in the 'VACATION' is transformed to numeric data"
   ]
  },
  {
   "cell_type": "code",
   "execution_count": 13,
   "metadata": {},
   "outputs": [],
   "source": [
    "le_vacation=preprocessing.LabelEncoder()\n",
    "flight_data['VACATION']=le_vacation.fit_transform(flight_data['VACATION'].astype(str))"
   ]
  },
  {
   "cell_type": "code",
   "execution_count": 14,
   "metadata": {},
   "outputs": [
    {
     "data": {
      "text/plain": [
       "array(['No', 'Yes'], dtype=object)"
      ]
     },
     "execution_count": 14,
     "metadata": {},
     "output_type": "execute_result"
    }
   ],
   "source": [
    "le_vacation.classes_"
   ]
  },
  {
   "cell_type": "code",
   "execution_count": 15,
   "metadata": {},
   "outputs": [
    {
     "data": {
      "text/html": [
       "<div>\n",
       "<style scoped>\n",
       "    .dataframe tbody tr th:only-of-type {\n",
       "        vertical-align: middle;\n",
       "    }\n",
       "\n",
       "    .dataframe tbody tr th {\n",
       "        vertical-align: top;\n",
       "    }\n",
       "\n",
       "    .dataframe thead th {\n",
       "        text-align: right;\n",
       "    }\n",
       "</style>\n",
       "<table border=\"1\" class=\"dataframe\">\n",
       "  <thead>\n",
       "    <tr style=\"text-align: right;\">\n",
       "      <th></th>\n",
       "      <th>S_CODE</th>\n",
       "      <th>S_CITY</th>\n",
       "      <th>E_CODE</th>\n",
       "      <th>E_CITY</th>\n",
       "      <th>COUPON</th>\n",
       "      <th>NEW</th>\n",
       "      <th>VACATION</th>\n",
       "      <th>SW</th>\n",
       "      <th>HI</th>\n",
       "      <th>S_INCOME</th>\n",
       "      <th>E_INCOME</th>\n",
       "      <th>S_POP</th>\n",
       "      <th>E_POP</th>\n",
       "      <th>SLOT</th>\n",
       "      <th>GATE</th>\n",
       "      <th>DISTANCE</th>\n",
       "      <th>PAX</th>\n",
       "      <th>FARE</th>\n",
       "    </tr>\n",
       "  </thead>\n",
       "  <tbody>\n",
       "    <tr>\n",
       "      <th>0</th>\n",
       "      <td>*</td>\n",
       "      <td>Dallas/Fort Worth   TX</td>\n",
       "      <td>*</td>\n",
       "      <td>Amarillo            TX</td>\n",
       "      <td>1.00</td>\n",
       "      <td>3</td>\n",
       "      <td>0</td>\n",
       "      <td>Yes</td>\n",
       "      <td>5291.99</td>\n",
       "      <td>28637</td>\n",
       "      <td>21112</td>\n",
       "      <td>3036732</td>\n",
       "      <td>205711</td>\n",
       "      <td>1</td>\n",
       "      <td>1</td>\n",
       "      <td>312</td>\n",
       "      <td>7864</td>\n",
       "      <td>64.11</td>\n",
       "    </tr>\n",
       "    <tr>\n",
       "      <th>1</th>\n",
       "      <td>*</td>\n",
       "      <td>Atlanta             GA</td>\n",
       "      <td>*</td>\n",
       "      <td>Baltimore/Wash Intl MD</td>\n",
       "      <td>1.06</td>\n",
       "      <td>3</td>\n",
       "      <td>0</td>\n",
       "      <td>No</td>\n",
       "      <td>5419.16</td>\n",
       "      <td>26993</td>\n",
       "      <td>29838</td>\n",
       "      <td>3532657</td>\n",
       "      <td>7145897</td>\n",
       "      <td>1</td>\n",
       "      <td>1</td>\n",
       "      <td>576</td>\n",
       "      <td>8820</td>\n",
       "      <td>174.47</td>\n",
       "    </tr>\n",
       "    <tr>\n",
       "      <th>2</th>\n",
       "      <td>*</td>\n",
       "      <td>Boston              MA</td>\n",
       "      <td>*</td>\n",
       "      <td>Baltimore/Wash Intl MD</td>\n",
       "      <td>1.06</td>\n",
       "      <td>3</td>\n",
       "      <td>0</td>\n",
       "      <td>No</td>\n",
       "      <td>9185.28</td>\n",
       "      <td>30124</td>\n",
       "      <td>29838</td>\n",
       "      <td>5787293</td>\n",
       "      <td>7145897</td>\n",
       "      <td>1</td>\n",
       "      <td>1</td>\n",
       "      <td>364</td>\n",
       "      <td>6452</td>\n",
       "      <td>207.76</td>\n",
       "    </tr>\n",
       "    <tr>\n",
       "      <th>3</th>\n",
       "      <td>ORD</td>\n",
       "      <td>Chicago             IL</td>\n",
       "      <td>*</td>\n",
       "      <td>Baltimore/Wash Intl MD</td>\n",
       "      <td>1.06</td>\n",
       "      <td>3</td>\n",
       "      <td>0</td>\n",
       "      <td>Yes</td>\n",
       "      <td>2657.35</td>\n",
       "      <td>29260</td>\n",
       "      <td>29838</td>\n",
       "      <td>7830332</td>\n",
       "      <td>7145897</td>\n",
       "      <td>0</td>\n",
       "      <td>1</td>\n",
       "      <td>612</td>\n",
       "      <td>25144</td>\n",
       "      <td>85.47</td>\n",
       "    </tr>\n",
       "    <tr>\n",
       "      <th>4</th>\n",
       "      <td>MDW</td>\n",
       "      <td>Chicago             IL</td>\n",
       "      <td>*</td>\n",
       "      <td>Baltimore/Wash Intl MD</td>\n",
       "      <td>1.06</td>\n",
       "      <td>3</td>\n",
       "      <td>0</td>\n",
       "      <td>Yes</td>\n",
       "      <td>2657.35</td>\n",
       "      <td>29260</td>\n",
       "      <td>29838</td>\n",
       "      <td>7830332</td>\n",
       "      <td>7145897</td>\n",
       "      <td>1</td>\n",
       "      <td>1</td>\n",
       "      <td>612</td>\n",
       "      <td>25144</td>\n",
       "      <td>85.47</td>\n",
       "    </tr>\n",
       "  </tbody>\n",
       "</table>\n",
       "</div>"
      ],
      "text/plain": [
       "  S_CODE                  S_CITY E_CODE                  E_CITY  COUPON  NEW  \\\n",
       "0      *  Dallas/Fort Worth   TX      *  Amarillo            TX    1.00    3   \n",
       "1      *  Atlanta             GA      *  Baltimore/Wash Intl MD    1.06    3   \n",
       "2      *  Boston              MA      *  Baltimore/Wash Intl MD    1.06    3   \n",
       "3    ORD  Chicago             IL      *  Baltimore/Wash Intl MD    1.06    3   \n",
       "4    MDW  Chicago             IL      *  Baltimore/Wash Intl MD    1.06    3   \n",
       "\n",
       "   VACATION   SW       HI  S_INCOME  E_INCOME    S_POP    E_POP  SLOT  GATE  \\\n",
       "0         0  Yes  5291.99     28637     21112  3036732   205711     1     1   \n",
       "1         0   No  5419.16     26993     29838  3532657  7145897     1     1   \n",
       "2         0   No  9185.28     30124     29838  5787293  7145897     1     1   \n",
       "3         0  Yes  2657.35     29260     29838  7830332  7145897     0     1   \n",
       "4         0  Yes  2657.35     29260     29838  7830332  7145897     1     1   \n",
       "\n",
       "   DISTANCE    PAX    FARE  \n",
       "0       312   7864   64.11  \n",
       "1       576   8820  174.47  \n",
       "2       364   6452  207.76  \n",
       "3       612  25144   85.47  \n",
       "4       612  25144   85.47  "
      ]
     },
     "execution_count": 15,
     "metadata": {},
     "output_type": "execute_result"
    }
   ],
   "source": [
    "flight_data.head()"
   ]
  },
  {
   "cell_type": "markdown",
   "metadata": {},
   "source": [
    "#### In the above output VACATION=1 represents 'yes' and VACATION=0 represents 'No'"
   ]
  },
  {
   "cell_type": "markdown",
   "metadata": {},
   "source": [
    "#### using preprocessing.LableEncoder() from scikit learn library the data present in the 'SW' is transformed to numeric data"
   ]
  },
  {
   "cell_type": "code",
   "execution_count": 16,
   "metadata": {},
   "outputs": [],
   "source": [
    "le_sw=preprocessing.LabelEncoder()\n",
    "flight_data['SW']=le_sw.fit_transform(flight_data['SW'].astype(str))"
   ]
  },
  {
   "cell_type": "code",
   "execution_count": 17,
   "metadata": {},
   "outputs": [
    {
     "data": {
      "text/html": [
       "<div>\n",
       "<style scoped>\n",
       "    .dataframe tbody tr th:only-of-type {\n",
       "        vertical-align: middle;\n",
       "    }\n",
       "\n",
       "    .dataframe tbody tr th {\n",
       "        vertical-align: top;\n",
       "    }\n",
       "\n",
       "    .dataframe thead th {\n",
       "        text-align: right;\n",
       "    }\n",
       "</style>\n",
       "<table border=\"1\" class=\"dataframe\">\n",
       "  <thead>\n",
       "    <tr style=\"text-align: right;\">\n",
       "      <th></th>\n",
       "      <th>S_CODE</th>\n",
       "      <th>S_CITY</th>\n",
       "      <th>E_CODE</th>\n",
       "      <th>E_CITY</th>\n",
       "      <th>COUPON</th>\n",
       "      <th>NEW</th>\n",
       "      <th>VACATION</th>\n",
       "      <th>SW</th>\n",
       "      <th>HI</th>\n",
       "      <th>S_INCOME</th>\n",
       "      <th>E_INCOME</th>\n",
       "      <th>S_POP</th>\n",
       "      <th>E_POP</th>\n",
       "      <th>SLOT</th>\n",
       "      <th>GATE</th>\n",
       "      <th>DISTANCE</th>\n",
       "      <th>PAX</th>\n",
       "      <th>FARE</th>\n",
       "    </tr>\n",
       "  </thead>\n",
       "  <tbody>\n",
       "    <tr>\n",
       "      <th>0</th>\n",
       "      <td>*</td>\n",
       "      <td>Dallas/Fort Worth   TX</td>\n",
       "      <td>*</td>\n",
       "      <td>Amarillo            TX</td>\n",
       "      <td>1.00</td>\n",
       "      <td>3</td>\n",
       "      <td>0</td>\n",
       "      <td>1</td>\n",
       "      <td>5291.99</td>\n",
       "      <td>28637</td>\n",
       "      <td>21112</td>\n",
       "      <td>3036732</td>\n",
       "      <td>205711</td>\n",
       "      <td>1</td>\n",
       "      <td>1</td>\n",
       "      <td>312</td>\n",
       "      <td>7864</td>\n",
       "      <td>64.11</td>\n",
       "    </tr>\n",
       "    <tr>\n",
       "      <th>1</th>\n",
       "      <td>*</td>\n",
       "      <td>Atlanta             GA</td>\n",
       "      <td>*</td>\n",
       "      <td>Baltimore/Wash Intl MD</td>\n",
       "      <td>1.06</td>\n",
       "      <td>3</td>\n",
       "      <td>0</td>\n",
       "      <td>0</td>\n",
       "      <td>5419.16</td>\n",
       "      <td>26993</td>\n",
       "      <td>29838</td>\n",
       "      <td>3532657</td>\n",
       "      <td>7145897</td>\n",
       "      <td>1</td>\n",
       "      <td>1</td>\n",
       "      <td>576</td>\n",
       "      <td>8820</td>\n",
       "      <td>174.47</td>\n",
       "    </tr>\n",
       "    <tr>\n",
       "      <th>2</th>\n",
       "      <td>*</td>\n",
       "      <td>Boston              MA</td>\n",
       "      <td>*</td>\n",
       "      <td>Baltimore/Wash Intl MD</td>\n",
       "      <td>1.06</td>\n",
       "      <td>3</td>\n",
       "      <td>0</td>\n",
       "      <td>0</td>\n",
       "      <td>9185.28</td>\n",
       "      <td>30124</td>\n",
       "      <td>29838</td>\n",
       "      <td>5787293</td>\n",
       "      <td>7145897</td>\n",
       "      <td>1</td>\n",
       "      <td>1</td>\n",
       "      <td>364</td>\n",
       "      <td>6452</td>\n",
       "      <td>207.76</td>\n",
       "    </tr>\n",
       "    <tr>\n",
       "      <th>3</th>\n",
       "      <td>ORD</td>\n",
       "      <td>Chicago             IL</td>\n",
       "      <td>*</td>\n",
       "      <td>Baltimore/Wash Intl MD</td>\n",
       "      <td>1.06</td>\n",
       "      <td>3</td>\n",
       "      <td>0</td>\n",
       "      <td>1</td>\n",
       "      <td>2657.35</td>\n",
       "      <td>29260</td>\n",
       "      <td>29838</td>\n",
       "      <td>7830332</td>\n",
       "      <td>7145897</td>\n",
       "      <td>0</td>\n",
       "      <td>1</td>\n",
       "      <td>612</td>\n",
       "      <td>25144</td>\n",
       "      <td>85.47</td>\n",
       "    </tr>\n",
       "    <tr>\n",
       "      <th>4</th>\n",
       "      <td>MDW</td>\n",
       "      <td>Chicago             IL</td>\n",
       "      <td>*</td>\n",
       "      <td>Baltimore/Wash Intl MD</td>\n",
       "      <td>1.06</td>\n",
       "      <td>3</td>\n",
       "      <td>0</td>\n",
       "      <td>1</td>\n",
       "      <td>2657.35</td>\n",
       "      <td>29260</td>\n",
       "      <td>29838</td>\n",
       "      <td>7830332</td>\n",
       "      <td>7145897</td>\n",
       "      <td>1</td>\n",
       "      <td>1</td>\n",
       "      <td>612</td>\n",
       "      <td>25144</td>\n",
       "      <td>85.47</td>\n",
       "    </tr>\n",
       "  </tbody>\n",
       "</table>\n",
       "</div>"
      ],
      "text/plain": [
       "  S_CODE                  S_CITY E_CODE                  E_CITY  COUPON  NEW  \\\n",
       "0      *  Dallas/Fort Worth   TX      *  Amarillo            TX    1.00    3   \n",
       "1      *  Atlanta             GA      *  Baltimore/Wash Intl MD    1.06    3   \n",
       "2      *  Boston              MA      *  Baltimore/Wash Intl MD    1.06    3   \n",
       "3    ORD  Chicago             IL      *  Baltimore/Wash Intl MD    1.06    3   \n",
       "4    MDW  Chicago             IL      *  Baltimore/Wash Intl MD    1.06    3   \n",
       "\n",
       "   VACATION  SW       HI  S_INCOME  E_INCOME    S_POP    E_POP  SLOT  GATE  \\\n",
       "0         0   1  5291.99     28637     21112  3036732   205711     1     1   \n",
       "1         0   0  5419.16     26993     29838  3532657  7145897     1     1   \n",
       "2         0   0  9185.28     30124     29838  5787293  7145897     1     1   \n",
       "3         0   1  2657.35     29260     29838  7830332  7145897     0     1   \n",
       "4         0   1  2657.35     29260     29838  7830332  7145897     1     1   \n",
       "\n",
       "   DISTANCE    PAX    FARE  \n",
       "0       312   7864   64.11  \n",
       "1       576   8820  174.47  \n",
       "2       364   6452  207.76  \n",
       "3       612  25144   85.47  \n",
       "4       612  25144   85.47  "
      ]
     },
     "execution_count": 17,
     "metadata": {},
     "output_type": "execute_result"
    }
   ],
   "source": [
    "flight_data.head()"
   ]
  },
  {
   "cell_type": "markdown",
   "metadata": {},
   "source": [
    "#### In the above output SW=1 represents 'yes' and SW=0 represents 'No'"
   ]
  },
  {
   "cell_type": "markdown",
   "metadata": {},
   "source": [
    "#### Categorizing the the booking having at least one high Traffic or not, booking with E_code or S_CODE as * is called as non traffic city"
   ]
  },
  {
   "cell_type": "code",
   "execution_count": 18,
   "metadata": {},
   "outputs": [],
   "source": [
    "flight_data['AtleastOneHighTrafficCity'] = np.where((flight_data['S_CODE']=='*')|(flight_data['E_CODE']=='*'), '0', '1')"
   ]
  },
  {
   "cell_type": "code",
   "execution_count": 19,
   "metadata": {},
   "outputs": [
    {
     "data": {
      "text/html": [
       "<div>\n",
       "<style scoped>\n",
       "    .dataframe tbody tr th:only-of-type {\n",
       "        vertical-align: middle;\n",
       "    }\n",
       "\n",
       "    .dataframe tbody tr th {\n",
       "        vertical-align: top;\n",
       "    }\n",
       "\n",
       "    .dataframe thead th {\n",
       "        text-align: right;\n",
       "    }\n",
       "</style>\n",
       "<table border=\"1\" class=\"dataframe\">\n",
       "  <thead>\n",
       "    <tr style=\"text-align: right;\">\n",
       "      <th></th>\n",
       "      <th>S_CODE</th>\n",
       "      <th>S_CITY</th>\n",
       "      <th>E_CODE</th>\n",
       "      <th>E_CITY</th>\n",
       "      <th>COUPON</th>\n",
       "      <th>NEW</th>\n",
       "      <th>VACATION</th>\n",
       "      <th>SW</th>\n",
       "      <th>HI</th>\n",
       "      <th>S_INCOME</th>\n",
       "      <th>E_INCOME</th>\n",
       "      <th>S_POP</th>\n",
       "      <th>E_POP</th>\n",
       "      <th>SLOT</th>\n",
       "      <th>GATE</th>\n",
       "      <th>DISTANCE</th>\n",
       "      <th>PAX</th>\n",
       "      <th>FARE</th>\n",
       "      <th>AtleastOneHighTrafficCity</th>\n",
       "    </tr>\n",
       "  </thead>\n",
       "  <tbody>\n",
       "    <tr>\n",
       "      <th>0</th>\n",
       "      <td>*</td>\n",
       "      <td>Dallas/Fort Worth   TX</td>\n",
       "      <td>*</td>\n",
       "      <td>Amarillo            TX</td>\n",
       "      <td>1.00</td>\n",
       "      <td>3</td>\n",
       "      <td>0</td>\n",
       "      <td>1</td>\n",
       "      <td>5291.99</td>\n",
       "      <td>28637</td>\n",
       "      <td>21112</td>\n",
       "      <td>3036732</td>\n",
       "      <td>205711</td>\n",
       "      <td>1</td>\n",
       "      <td>1</td>\n",
       "      <td>312</td>\n",
       "      <td>7864</td>\n",
       "      <td>64.11</td>\n",
       "      <td>0</td>\n",
       "    </tr>\n",
       "    <tr>\n",
       "      <th>1</th>\n",
       "      <td>*</td>\n",
       "      <td>Atlanta             GA</td>\n",
       "      <td>*</td>\n",
       "      <td>Baltimore/Wash Intl MD</td>\n",
       "      <td>1.06</td>\n",
       "      <td>3</td>\n",
       "      <td>0</td>\n",
       "      <td>0</td>\n",
       "      <td>5419.16</td>\n",
       "      <td>26993</td>\n",
       "      <td>29838</td>\n",
       "      <td>3532657</td>\n",
       "      <td>7145897</td>\n",
       "      <td>1</td>\n",
       "      <td>1</td>\n",
       "      <td>576</td>\n",
       "      <td>8820</td>\n",
       "      <td>174.47</td>\n",
       "      <td>0</td>\n",
       "    </tr>\n",
       "    <tr>\n",
       "      <th>2</th>\n",
       "      <td>*</td>\n",
       "      <td>Boston              MA</td>\n",
       "      <td>*</td>\n",
       "      <td>Baltimore/Wash Intl MD</td>\n",
       "      <td>1.06</td>\n",
       "      <td>3</td>\n",
       "      <td>0</td>\n",
       "      <td>0</td>\n",
       "      <td>9185.28</td>\n",
       "      <td>30124</td>\n",
       "      <td>29838</td>\n",
       "      <td>5787293</td>\n",
       "      <td>7145897</td>\n",
       "      <td>1</td>\n",
       "      <td>1</td>\n",
       "      <td>364</td>\n",
       "      <td>6452</td>\n",
       "      <td>207.76</td>\n",
       "      <td>0</td>\n",
       "    </tr>\n",
       "    <tr>\n",
       "      <th>3</th>\n",
       "      <td>ORD</td>\n",
       "      <td>Chicago             IL</td>\n",
       "      <td>*</td>\n",
       "      <td>Baltimore/Wash Intl MD</td>\n",
       "      <td>1.06</td>\n",
       "      <td>3</td>\n",
       "      <td>0</td>\n",
       "      <td>1</td>\n",
       "      <td>2657.35</td>\n",
       "      <td>29260</td>\n",
       "      <td>29838</td>\n",
       "      <td>7830332</td>\n",
       "      <td>7145897</td>\n",
       "      <td>0</td>\n",
       "      <td>1</td>\n",
       "      <td>612</td>\n",
       "      <td>25144</td>\n",
       "      <td>85.47</td>\n",
       "      <td>0</td>\n",
       "    </tr>\n",
       "    <tr>\n",
       "      <th>4</th>\n",
       "      <td>MDW</td>\n",
       "      <td>Chicago             IL</td>\n",
       "      <td>*</td>\n",
       "      <td>Baltimore/Wash Intl MD</td>\n",
       "      <td>1.06</td>\n",
       "      <td>3</td>\n",
       "      <td>0</td>\n",
       "      <td>1</td>\n",
       "      <td>2657.35</td>\n",
       "      <td>29260</td>\n",
       "      <td>29838</td>\n",
       "      <td>7830332</td>\n",
       "      <td>7145897</td>\n",
       "      <td>1</td>\n",
       "      <td>1</td>\n",
       "      <td>612</td>\n",
       "      <td>25144</td>\n",
       "      <td>85.47</td>\n",
       "      <td>0</td>\n",
       "    </tr>\n",
       "  </tbody>\n",
       "</table>\n",
       "</div>"
      ],
      "text/plain": [
       "  S_CODE                  S_CITY E_CODE                  E_CITY  COUPON  NEW  \\\n",
       "0      *  Dallas/Fort Worth   TX      *  Amarillo            TX    1.00    3   \n",
       "1      *  Atlanta             GA      *  Baltimore/Wash Intl MD    1.06    3   \n",
       "2      *  Boston              MA      *  Baltimore/Wash Intl MD    1.06    3   \n",
       "3    ORD  Chicago             IL      *  Baltimore/Wash Intl MD    1.06    3   \n",
       "4    MDW  Chicago             IL      *  Baltimore/Wash Intl MD    1.06    3   \n",
       "\n",
       "   VACATION  SW       HI  S_INCOME  E_INCOME    S_POP    E_POP  SLOT  GATE  \\\n",
       "0         0   1  5291.99     28637     21112  3036732   205711     1     1   \n",
       "1         0   0  5419.16     26993     29838  3532657  7145897     1     1   \n",
       "2         0   0  9185.28     30124     29838  5787293  7145897     1     1   \n",
       "3         0   1  2657.35     29260     29838  7830332  7145897     0     1   \n",
       "4         0   1  2657.35     29260     29838  7830332  7145897     1     1   \n",
       "\n",
       "   DISTANCE    PAX    FARE AtleastOneHighTrafficCity  \n",
       "0       312   7864   64.11                         0  \n",
       "1       576   8820  174.47                         0  \n",
       "2       364   6452  207.76                         0  \n",
       "3       612  25144   85.47                         0  \n",
       "4       612  25144   85.47                         0  "
      ]
     },
     "execution_count": 19,
     "metadata": {},
     "output_type": "execute_result"
    }
   ],
   "source": [
    "flight_data.head()"
   ]
  },
  {
   "cell_type": "markdown",
   "metadata": {},
   "source": [
    "#### In the above output the value of 'AtleastOneHighTrafficCity' is '0' if there are no high traffic cities either in the source or destination and it '1' otherwise"
   ]
  },
  {
   "cell_type": "markdown",
   "metadata": {},
   "source": [
    "#### Dropping the columns S_CODE, S_CITY,E_CODE,E_CITY as the column 'AtleastOneHighTrafficCity' is defined based on these variables"
   ]
  },
  {
   "cell_type": "code",
   "execution_count": 20,
   "metadata": {},
   "outputs": [],
   "source": [
    "flight_data=flight_data.drop(columns=['S_CODE', 'S_CITY','E_CODE','E_CITY'])"
   ]
  },
  {
   "cell_type": "markdown",
   "metadata": {},
   "source": [
    "#### Converting the whole data frame into numeric as model requires only numeric data "
   ]
  },
  {
   "cell_type": "code",
   "execution_count": 21,
   "metadata": {},
   "outputs": [],
   "source": [
    "flight_numeric=flight_data.apply(pd.to_numeric,errors='coerce')"
   ]
  },
  {
   "cell_type": "code",
   "execution_count": 22,
   "metadata": {},
   "outputs": [
    {
     "data": {
      "text/html": [
       "<div>\n",
       "<style scoped>\n",
       "    .dataframe tbody tr th:only-of-type {\n",
       "        vertical-align: middle;\n",
       "    }\n",
       "\n",
       "    .dataframe tbody tr th {\n",
       "        vertical-align: top;\n",
       "    }\n",
       "\n",
       "    .dataframe thead th {\n",
       "        text-align: right;\n",
       "    }\n",
       "</style>\n",
       "<table border=\"1\" class=\"dataframe\">\n",
       "  <thead>\n",
       "    <tr style=\"text-align: right;\">\n",
       "      <th></th>\n",
       "      <th>COUPON</th>\n",
       "      <th>NEW</th>\n",
       "      <th>VACATION</th>\n",
       "      <th>SW</th>\n",
       "      <th>HI</th>\n",
       "      <th>S_INCOME</th>\n",
       "      <th>E_INCOME</th>\n",
       "      <th>S_POP</th>\n",
       "      <th>E_POP</th>\n",
       "      <th>SLOT</th>\n",
       "      <th>GATE</th>\n",
       "      <th>DISTANCE</th>\n",
       "      <th>PAX</th>\n",
       "      <th>FARE</th>\n",
       "      <th>AtleastOneHighTrafficCity</th>\n",
       "    </tr>\n",
       "  </thead>\n",
       "  <tbody>\n",
       "    <tr>\n",
       "      <th>0</th>\n",
       "      <td>1.00</td>\n",
       "      <td>3</td>\n",
       "      <td>0</td>\n",
       "      <td>1</td>\n",
       "      <td>5291.99</td>\n",
       "      <td>28637</td>\n",
       "      <td>21112</td>\n",
       "      <td>3036732</td>\n",
       "      <td>205711</td>\n",
       "      <td>1</td>\n",
       "      <td>1</td>\n",
       "      <td>312</td>\n",
       "      <td>7864</td>\n",
       "      <td>64.11</td>\n",
       "      <td>0</td>\n",
       "    </tr>\n",
       "    <tr>\n",
       "      <th>1</th>\n",
       "      <td>1.06</td>\n",
       "      <td>3</td>\n",
       "      <td>0</td>\n",
       "      <td>0</td>\n",
       "      <td>5419.16</td>\n",
       "      <td>26993</td>\n",
       "      <td>29838</td>\n",
       "      <td>3532657</td>\n",
       "      <td>7145897</td>\n",
       "      <td>1</td>\n",
       "      <td>1</td>\n",
       "      <td>576</td>\n",
       "      <td>8820</td>\n",
       "      <td>174.47</td>\n",
       "      <td>0</td>\n",
       "    </tr>\n",
       "    <tr>\n",
       "      <th>2</th>\n",
       "      <td>1.06</td>\n",
       "      <td>3</td>\n",
       "      <td>0</td>\n",
       "      <td>0</td>\n",
       "      <td>9185.28</td>\n",
       "      <td>30124</td>\n",
       "      <td>29838</td>\n",
       "      <td>5787293</td>\n",
       "      <td>7145897</td>\n",
       "      <td>1</td>\n",
       "      <td>1</td>\n",
       "      <td>364</td>\n",
       "      <td>6452</td>\n",
       "      <td>207.76</td>\n",
       "      <td>0</td>\n",
       "    </tr>\n",
       "    <tr>\n",
       "      <th>3</th>\n",
       "      <td>1.06</td>\n",
       "      <td>3</td>\n",
       "      <td>0</td>\n",
       "      <td>1</td>\n",
       "      <td>2657.35</td>\n",
       "      <td>29260</td>\n",
       "      <td>29838</td>\n",
       "      <td>7830332</td>\n",
       "      <td>7145897</td>\n",
       "      <td>0</td>\n",
       "      <td>1</td>\n",
       "      <td>612</td>\n",
       "      <td>25144</td>\n",
       "      <td>85.47</td>\n",
       "      <td>0</td>\n",
       "    </tr>\n",
       "    <tr>\n",
       "      <th>4</th>\n",
       "      <td>1.06</td>\n",
       "      <td>3</td>\n",
       "      <td>0</td>\n",
       "      <td>1</td>\n",
       "      <td>2657.35</td>\n",
       "      <td>29260</td>\n",
       "      <td>29838</td>\n",
       "      <td>7830332</td>\n",
       "      <td>7145897</td>\n",
       "      <td>1</td>\n",
       "      <td>1</td>\n",
       "      <td>612</td>\n",
       "      <td>25144</td>\n",
       "      <td>85.47</td>\n",
       "      <td>0</td>\n",
       "    </tr>\n",
       "  </tbody>\n",
       "</table>\n",
       "</div>"
      ],
      "text/plain": [
       "   COUPON  NEW  VACATION  SW       HI  S_INCOME  E_INCOME    S_POP    E_POP  \\\n",
       "0    1.00    3         0   1  5291.99     28637     21112  3036732   205711   \n",
       "1    1.06    3         0   0  5419.16     26993     29838  3532657  7145897   \n",
       "2    1.06    3         0   0  9185.28     30124     29838  5787293  7145897   \n",
       "3    1.06    3         0   1  2657.35     29260     29838  7830332  7145897   \n",
       "4    1.06    3         0   1  2657.35     29260     29838  7830332  7145897   \n",
       "\n",
       "   SLOT  GATE  DISTANCE    PAX    FARE  AtleastOneHighTrafficCity  \n",
       "0     1     1       312   7864   64.11                          0  \n",
       "1     1     1       576   8820  174.47                          0  \n",
       "2     1     1       364   6452  207.76                          0  \n",
       "3     0     1       612  25144   85.47                          0  \n",
       "4     1     1       612  25144   85.47                          0  "
      ]
     },
     "execution_count": 22,
     "metadata": {},
     "output_type": "execute_result"
    }
   ],
   "source": [
    "flight_numeric.head()"
   ]
  },
  {
   "cell_type": "code",
   "execution_count": 23,
   "metadata": {},
   "outputs": [
    {
     "name": "stdout",
     "output_type": "stream",
     "text": [
      "<class 'pandas.core.frame.DataFrame'>\n",
      "RangeIndex: 638 entries, 0 to 637\n",
      "Data columns (total 15 columns):\n",
      "COUPON                       638 non-null float64\n",
      "NEW                          638 non-null int64\n",
      "VACATION                     638 non-null int64\n",
      "SW                           638 non-null int64\n",
      "HI                           638 non-null float64\n",
      "S_INCOME                     638 non-null int64\n",
      "E_INCOME                     638 non-null int64\n",
      "S_POP                        638 non-null int64\n",
      "E_POP                        638 non-null int64\n",
      "SLOT                         638 non-null int64\n",
      "GATE                         638 non-null int64\n",
      "DISTANCE                     638 non-null int64\n",
      "PAX                          638 non-null int64\n",
      "FARE                         638 non-null float64\n",
      "AtleastOneHighTrafficCity    638 non-null int64\n",
      "dtypes: float64(3), int64(12)\n",
      "memory usage: 74.8 KB\n"
     ]
    }
   ],
   "source": [
    "flight_numeric.info()"
   ]
  },
  {
   "cell_type": "markdown",
   "metadata": {},
   "source": [
    "## 5. Correlation Between the variables"
   ]
  },
  {
   "cell_type": "markdown",
   "metadata": {},
   "source": [
    "#### Calculating correlation of the variables against each variable"
   ]
  },
  {
   "cell_type": "code",
   "execution_count": 24,
   "metadata": {},
   "outputs": [
    {
     "data": {
      "text/html": [
       "<div>\n",
       "<style scoped>\n",
       "    .dataframe tbody tr th:only-of-type {\n",
       "        vertical-align: middle;\n",
       "    }\n",
       "\n",
       "    .dataframe tbody tr th {\n",
       "        vertical-align: top;\n",
       "    }\n",
       "\n",
       "    .dataframe thead th {\n",
       "        text-align: right;\n",
       "    }\n",
       "</style>\n",
       "<table border=\"1\" class=\"dataframe\">\n",
       "  <thead>\n",
       "    <tr style=\"text-align: right;\">\n",
       "      <th></th>\n",
       "      <th>COUPON</th>\n",
       "      <th>NEW</th>\n",
       "      <th>VACATION</th>\n",
       "      <th>SW</th>\n",
       "      <th>HI</th>\n",
       "      <th>S_INCOME</th>\n",
       "      <th>E_INCOME</th>\n",
       "      <th>S_POP</th>\n",
       "      <th>E_POP</th>\n",
       "      <th>SLOT</th>\n",
       "      <th>GATE</th>\n",
       "      <th>DISTANCE</th>\n",
       "      <th>PAX</th>\n",
       "      <th>FARE</th>\n",
       "      <th>AtleastOneHighTrafficCity</th>\n",
       "    </tr>\n",
       "  </thead>\n",
       "  <tbody>\n",
       "    <tr>\n",
       "      <th>COUPON</th>\n",
       "      <td>1.000000</td>\n",
       "      <td>0.020223</td>\n",
       "      <td>0.071424</td>\n",
       "      <td>-0.188098</td>\n",
       "      <td>-0.347252</td>\n",
       "      <td>-0.088403</td>\n",
       "      <td>0.046889</td>\n",
       "      <td>-0.107763</td>\n",
       "      <td>0.094970</td>\n",
       "      <td>-0.021901</td>\n",
       "      <td>0.064369</td>\n",
       "      <td>0.746805</td>\n",
       "      <td>-0.336974</td>\n",
       "      <td>0.496537</td>\n",
       "      <td>-0.126857</td>\n",
       "    </tr>\n",
       "    <tr>\n",
       "      <th>NEW</th>\n",
       "      <td>0.020223</td>\n",
       "      <td>1.000000</td>\n",
       "      <td>-0.047433</td>\n",
       "      <td>-0.081881</td>\n",
       "      <td>0.054147</td>\n",
       "      <td>0.026597</td>\n",
       "      <td>0.113377</td>\n",
       "      <td>-0.016672</td>\n",
       "      <td>0.058568</td>\n",
       "      <td>-0.058414</td>\n",
       "      <td>-0.013106</td>\n",
       "      <td>0.080965</td>\n",
       "      <td>0.010495</td>\n",
       "      <td>0.091730</td>\n",
       "      <td>0.025557</td>\n",
       "    </tr>\n",
       "    <tr>\n",
       "      <th>VACATION</th>\n",
       "      <td>0.071424</td>\n",
       "      <td>-0.047433</td>\n",
       "      <td>1.000000</td>\n",
       "      <td>0.025488</td>\n",
       "      <td>-0.151625</td>\n",
       "      <td>-0.216393</td>\n",
       "      <td>-0.076288</td>\n",
       "      <td>-0.208549</td>\n",
       "      <td>-0.167054</td>\n",
       "      <td>0.129514</td>\n",
       "      <td>0.116838</td>\n",
       "      <td>0.093198</td>\n",
       "      <td>-0.017747</td>\n",
       "      <td>-0.276868</td>\n",
       "      <td>-0.096664</td>\n",
       "    </tr>\n",
       "    <tr>\n",
       "      <th>SW</th>\n",
       "      <td>-0.188098</td>\n",
       "      <td>-0.081881</td>\n",
       "      <td>0.025488</td>\n",
       "      <td>1.000000</td>\n",
       "      <td>-0.040172</td>\n",
       "      <td>-0.272269</td>\n",
       "      <td>-0.281160</td>\n",
       "      <td>-0.089282</td>\n",
       "      <td>-0.221272</td>\n",
       "      <td>0.251593</td>\n",
       "      <td>0.255782</td>\n",
       "      <td>-0.240485</td>\n",
       "      <td>-0.052468</td>\n",
       "      <td>-0.543813</td>\n",
       "      <td>-0.106017</td>\n",
       "    </tr>\n",
       "    <tr>\n",
       "      <th>HI</th>\n",
       "      <td>-0.347252</td>\n",
       "      <td>0.054147</td>\n",
       "      <td>-0.151625</td>\n",
       "      <td>-0.040172</td>\n",
       "      <td>1.000000</td>\n",
       "      <td>-0.027382</td>\n",
       "      <td>0.082393</td>\n",
       "      <td>-0.172495</td>\n",
       "      <td>-0.062456</td>\n",
       "      <td>0.185179</td>\n",
       "      <td>-0.155182</td>\n",
       "      <td>-0.312375</td>\n",
       "      <td>-0.168961</td>\n",
       "      <td>0.025195</td>\n",
       "      <td>-0.081468</td>\n",
       "    </tr>\n",
       "    <tr>\n",
       "      <th>S_INCOME</th>\n",
       "      <td>-0.088403</td>\n",
       "      <td>0.026597</td>\n",
       "      <td>-0.216393</td>\n",
       "      <td>-0.272269</td>\n",
       "      <td>-0.027382</td>\n",
       "      <td>1.000000</td>\n",
       "      <td>-0.138864</td>\n",
       "      <td>0.517187</td>\n",
       "      <td>-0.272280</td>\n",
       "      <td>-0.231868</td>\n",
       "      <td>-0.108193</td>\n",
       "      <td>0.028153</td>\n",
       "      <td>0.138197</td>\n",
       "      <td>0.209135</td>\n",
       "      <td>0.129404</td>\n",
       "    </tr>\n",
       "    <tr>\n",
       "      <th>E_INCOME</th>\n",
       "      <td>0.046889</td>\n",
       "      <td>0.113377</td>\n",
       "      <td>-0.076288</td>\n",
       "      <td>-0.281160</td>\n",
       "      <td>0.082393</td>\n",
       "      <td>-0.138864</td>\n",
       "      <td>1.000000</td>\n",
       "      <td>-0.144059</td>\n",
       "      <td>0.458418</td>\n",
       "      <td>-0.197481</td>\n",
       "      <td>-0.062807</td>\n",
       "      <td>0.176531</td>\n",
       "      <td>0.259961</td>\n",
       "      <td>0.326092</td>\n",
       "      <td>0.163459</td>\n",
       "    </tr>\n",
       "    <tr>\n",
       "      <th>S_POP</th>\n",
       "      <td>-0.107763</td>\n",
       "      <td>-0.016672</td>\n",
       "      <td>-0.208549</td>\n",
       "      <td>-0.089282</td>\n",
       "      <td>-0.172495</td>\n",
       "      <td>0.517187</td>\n",
       "      <td>-0.144059</td>\n",
       "      <td>1.000000</td>\n",
       "      <td>-0.280143</td>\n",
       "      <td>-0.281576</td>\n",
       "      <td>-0.085900</td>\n",
       "      <td>0.018437</td>\n",
       "      <td>0.284611</td>\n",
       "      <td>0.145097</td>\n",
       "      <td>0.190305</td>\n",
       "    </tr>\n",
       "    <tr>\n",
       "      <th>E_POP</th>\n",
       "      <td>0.094970</td>\n",
       "      <td>0.058568</td>\n",
       "      <td>-0.167054</td>\n",
       "      <td>-0.221272</td>\n",
       "      <td>-0.062456</td>\n",
       "      <td>-0.272280</td>\n",
       "      <td>0.458418</td>\n",
       "      <td>-0.280143</td>\n",
       "      <td>1.000000</td>\n",
       "      <td>-0.246216</td>\n",
       "      <td>-0.149666</td>\n",
       "      <td>0.115640</td>\n",
       "      <td>0.314698</td>\n",
       "      <td>0.285043</td>\n",
       "      <td>0.169103</td>\n",
       "    </tr>\n",
       "    <tr>\n",
       "      <th>SLOT</th>\n",
       "      <td>-0.021901</td>\n",
       "      <td>-0.058414</td>\n",
       "      <td>0.129514</td>\n",
       "      <td>0.251593</td>\n",
       "      <td>0.185179</td>\n",
       "      <td>-0.231868</td>\n",
       "      <td>-0.197481</td>\n",
       "      <td>-0.281576</td>\n",
       "      <td>-0.246216</td>\n",
       "      <td>1.000000</td>\n",
       "      <td>-0.143628</td>\n",
       "      <td>-0.009483</td>\n",
       "      <td>-0.243143</td>\n",
       "      <td>-0.209438</td>\n",
       "      <td>-0.187271</td>\n",
       "    </tr>\n",
       "    <tr>\n",
       "      <th>GATE</th>\n",
       "      <td>0.064369</td>\n",
       "      <td>-0.013106</td>\n",
       "      <td>0.116838</td>\n",
       "      <td>0.255782</td>\n",
       "      <td>-0.155182</td>\n",
       "      <td>-0.108193</td>\n",
       "      <td>-0.062807</td>\n",
       "      <td>-0.085900</td>\n",
       "      <td>-0.149666</td>\n",
       "      <td>-0.143628</td>\n",
       "      <td>1.000000</td>\n",
       "      <td>0.065218</td>\n",
       "      <td>-0.040288</td>\n",
       "      <td>-0.208540</td>\n",
       "      <td>-0.022553</td>\n",
       "    </tr>\n",
       "    <tr>\n",
       "      <th>DISTANCE</th>\n",
       "      <td>0.746805</td>\n",
       "      <td>0.080965</td>\n",
       "      <td>0.093198</td>\n",
       "      <td>-0.240485</td>\n",
       "      <td>-0.312375</td>\n",
       "      <td>0.028153</td>\n",
       "      <td>0.176531</td>\n",
       "      <td>0.018437</td>\n",
       "      <td>0.115640</td>\n",
       "      <td>-0.009483</td>\n",
       "      <td>0.065218</td>\n",
       "      <td>1.000000</td>\n",
       "      <td>-0.102482</td>\n",
       "      <td>0.670016</td>\n",
       "      <td>-0.118079</td>\n",
       "    </tr>\n",
       "    <tr>\n",
       "      <th>PAX</th>\n",
       "      <td>-0.336974</td>\n",
       "      <td>0.010495</td>\n",
       "      <td>-0.017747</td>\n",
       "      <td>-0.052468</td>\n",
       "      <td>-0.168961</td>\n",
       "      <td>0.138197</td>\n",
       "      <td>0.259961</td>\n",
       "      <td>0.284611</td>\n",
       "      <td>0.314698</td>\n",
       "      <td>-0.243143</td>\n",
       "      <td>-0.040288</td>\n",
       "      <td>-0.102482</td>\n",
       "      <td>1.000000</td>\n",
       "      <td>-0.090705</td>\n",
       "      <td>0.556093</td>\n",
       "    </tr>\n",
       "    <tr>\n",
       "      <th>FARE</th>\n",
       "      <td>0.496537</td>\n",
       "      <td>0.091730</td>\n",
       "      <td>-0.276868</td>\n",
       "      <td>-0.543813</td>\n",
       "      <td>0.025195</td>\n",
       "      <td>0.209135</td>\n",
       "      <td>0.326092</td>\n",
       "      <td>0.145097</td>\n",
       "      <td>0.285043</td>\n",
       "      <td>-0.209438</td>\n",
       "      <td>-0.208540</td>\n",
       "      <td>0.670016</td>\n",
       "      <td>-0.090705</td>\n",
       "      <td>1.000000</td>\n",
       "      <td>-0.045820</td>\n",
       "    </tr>\n",
       "    <tr>\n",
       "      <th>AtleastOneHighTrafficCity</th>\n",
       "      <td>-0.126857</td>\n",
       "      <td>0.025557</td>\n",
       "      <td>-0.096664</td>\n",
       "      <td>-0.106017</td>\n",
       "      <td>-0.081468</td>\n",
       "      <td>0.129404</td>\n",
       "      <td>0.163459</td>\n",
       "      <td>0.190305</td>\n",
       "      <td>0.169103</td>\n",
       "      <td>-0.187271</td>\n",
       "      <td>-0.022553</td>\n",
       "      <td>-0.118079</td>\n",
       "      <td>0.556093</td>\n",
       "      <td>-0.045820</td>\n",
       "      <td>1.000000</td>\n",
       "    </tr>\n",
       "  </tbody>\n",
       "</table>\n",
       "</div>"
      ],
      "text/plain": [
       "                             COUPON       NEW  VACATION        SW        HI  \\\n",
       "COUPON                     1.000000  0.020223  0.071424 -0.188098 -0.347252   \n",
       "NEW                        0.020223  1.000000 -0.047433 -0.081881  0.054147   \n",
       "VACATION                   0.071424 -0.047433  1.000000  0.025488 -0.151625   \n",
       "SW                        -0.188098 -0.081881  0.025488  1.000000 -0.040172   \n",
       "HI                        -0.347252  0.054147 -0.151625 -0.040172  1.000000   \n",
       "S_INCOME                  -0.088403  0.026597 -0.216393 -0.272269 -0.027382   \n",
       "E_INCOME                   0.046889  0.113377 -0.076288 -0.281160  0.082393   \n",
       "S_POP                     -0.107763 -0.016672 -0.208549 -0.089282 -0.172495   \n",
       "E_POP                      0.094970  0.058568 -0.167054 -0.221272 -0.062456   \n",
       "SLOT                      -0.021901 -0.058414  0.129514  0.251593  0.185179   \n",
       "GATE                       0.064369 -0.013106  0.116838  0.255782 -0.155182   \n",
       "DISTANCE                   0.746805  0.080965  0.093198 -0.240485 -0.312375   \n",
       "PAX                       -0.336974  0.010495 -0.017747 -0.052468 -0.168961   \n",
       "FARE                       0.496537  0.091730 -0.276868 -0.543813  0.025195   \n",
       "AtleastOneHighTrafficCity -0.126857  0.025557 -0.096664 -0.106017 -0.081468   \n",
       "\n",
       "                           S_INCOME  E_INCOME     S_POP     E_POP      SLOT  \\\n",
       "COUPON                    -0.088403  0.046889 -0.107763  0.094970 -0.021901   \n",
       "NEW                        0.026597  0.113377 -0.016672  0.058568 -0.058414   \n",
       "VACATION                  -0.216393 -0.076288 -0.208549 -0.167054  0.129514   \n",
       "SW                        -0.272269 -0.281160 -0.089282 -0.221272  0.251593   \n",
       "HI                        -0.027382  0.082393 -0.172495 -0.062456  0.185179   \n",
       "S_INCOME                   1.000000 -0.138864  0.517187 -0.272280 -0.231868   \n",
       "E_INCOME                  -0.138864  1.000000 -0.144059  0.458418 -0.197481   \n",
       "S_POP                      0.517187 -0.144059  1.000000 -0.280143 -0.281576   \n",
       "E_POP                     -0.272280  0.458418 -0.280143  1.000000 -0.246216   \n",
       "SLOT                      -0.231868 -0.197481 -0.281576 -0.246216  1.000000   \n",
       "GATE                      -0.108193 -0.062807 -0.085900 -0.149666 -0.143628   \n",
       "DISTANCE                   0.028153  0.176531  0.018437  0.115640 -0.009483   \n",
       "PAX                        0.138197  0.259961  0.284611  0.314698 -0.243143   \n",
       "FARE                       0.209135  0.326092  0.145097  0.285043 -0.209438   \n",
       "AtleastOneHighTrafficCity  0.129404  0.163459  0.190305  0.169103 -0.187271   \n",
       "\n",
       "                               GATE  DISTANCE       PAX      FARE  \\\n",
       "COUPON                     0.064369  0.746805 -0.336974  0.496537   \n",
       "NEW                       -0.013106  0.080965  0.010495  0.091730   \n",
       "VACATION                   0.116838  0.093198 -0.017747 -0.276868   \n",
       "SW                         0.255782 -0.240485 -0.052468 -0.543813   \n",
       "HI                        -0.155182 -0.312375 -0.168961  0.025195   \n",
       "S_INCOME                  -0.108193  0.028153  0.138197  0.209135   \n",
       "E_INCOME                  -0.062807  0.176531  0.259961  0.326092   \n",
       "S_POP                     -0.085900  0.018437  0.284611  0.145097   \n",
       "E_POP                     -0.149666  0.115640  0.314698  0.285043   \n",
       "SLOT                      -0.143628 -0.009483 -0.243143 -0.209438   \n",
       "GATE                       1.000000  0.065218 -0.040288 -0.208540   \n",
       "DISTANCE                   0.065218  1.000000 -0.102482  0.670016   \n",
       "PAX                       -0.040288 -0.102482  1.000000 -0.090705   \n",
       "FARE                      -0.208540  0.670016 -0.090705  1.000000   \n",
       "AtleastOneHighTrafficCity -0.022553 -0.118079  0.556093 -0.045820   \n",
       "\n",
       "                           AtleastOneHighTrafficCity  \n",
       "COUPON                                     -0.126857  \n",
       "NEW                                         0.025557  \n",
       "VACATION                                   -0.096664  \n",
       "SW                                         -0.106017  \n",
       "HI                                         -0.081468  \n",
       "S_INCOME                                    0.129404  \n",
       "E_INCOME                                    0.163459  \n",
       "S_POP                                       0.190305  \n",
       "E_POP                                       0.169103  \n",
       "SLOT                                       -0.187271  \n",
       "GATE                                       -0.022553  \n",
       "DISTANCE                                   -0.118079  \n",
       "PAX                                         0.556093  \n",
       "FARE                                       -0.045820  \n",
       "AtleastOneHighTrafficCity                   1.000000  "
      ]
     },
     "execution_count": 24,
     "metadata": {},
     "output_type": "execute_result"
    }
   ],
   "source": [
    "corr = flight_numeric.corr()\n",
    "corr"
   ]
  },
  {
   "cell_type": "markdown",
   "metadata": {},
   "source": [
    "#### Plotting a heatmap to represent the correlation of the variables"
   ]
  },
  {
   "cell_type": "code",
   "execution_count": 25,
   "metadata": {},
   "outputs": [
    {
     "data": {
      "text/plain": [
       "<matplotlib.axes._subplots.AxesSubplot at 0x1e68508cf98>"
      ]
     },
     "execution_count": 25,
     "metadata": {},
     "output_type": "execute_result"
    },
    {
     "data": {
      "image/png": "[encoded data removed]",
      "text/plain": [
       "<Figure size 432x288 with 2 Axes>"
      ]
     },
     "metadata": {},
     "output_type": "display_data"
    }
   ],
   "source": [
    "# constructing a heatmap to visualize the correlation between variables\n",
    "sns.heatmap(corr, \n",
    "            xticklabels=corr.columns.values,\n",
    "            yticklabels=corr.columns.values)"
   ]
  },
  {
   "cell_type": "markdown",
   "metadata": {},
   "source": [
    "#### The above heatmap describes the correlation between the variables"
   ]
  },
  {
   "cell_type": "markdown",
   "metadata": {},
   "source": [
    "## 6. Data Visualization"
   ]
  },
  {
   "cell_type": "markdown",
   "metadata": {},
   "source": [
    "#### Plotting a graph which represents frequency for different fare ranges"
   ]
  },
  {
   "cell_type": "code",
   "execution_count": 26,
   "metadata": {},
   "outputs": [
    {
     "data": {
      "text/plain": [
       "Text(0,0.5,'frequency')"
      ]
     },
     "execution_count": 26,
     "metadata": {},
     "output_type": "execute_result"
    },
    {
     "data": {
      "image/png": "[encoded data removed]",
      "text/plain": [
       "<Figure size 1080x576 with 1 Axes>"
      ]
     },
     "metadata": {},
     "output_type": "display_data"
    }
   ],
   "source": [
    "plt.figure(figsize=(15,8)) #setting the size of the chart\n",
    "flight_numeric['FARE'].hist() #constructing histogram\n",
    "plt.title('Distribution of Fare') # display title of the histogram\n",
    "plt.xlabel('Fare') # setting the x-axis label\n",
    "plt.ylabel('frequency') # setting y-axis label"
   ]
  },
  {
   "cell_type": "markdown",
   "metadata": {},
   "source": [
    "#### The above plot shows that there are more number of passengers for flight fare between 100 to 150$"
   ]
  },
  {
   "cell_type": "markdown",
   "metadata": {},
   "source": [
    "## 7.Feature Selection"
   ]
  },
  {
   "cell_type": "markdown",
   "metadata": {},
   "source": [
    "#### Extracting features from the dataset used to predict the 'FARE'"
   ]
  },
  {
   "cell_type": "code",
   "execution_count": 27,
   "metadata": {},
   "outputs": [],
   "source": [
    "x=flight_numeric.drop('FARE',axis=1) # seperation the target variable form the data"
   ]
  },
  {
   "cell_type": "code",
   "execution_count": 28,
   "metadata": {},
   "outputs": [
    {
     "data": {
      "text/html": [
       "<div>\n",
       "<style scoped>\n",
       "    .dataframe tbody tr th:only-of-type {\n",
       "        vertical-align: middle;\n",
       "    }\n",
       "\n",
       "    .dataframe tbody tr th {\n",
       "        vertical-align: top;\n",
       "    }\n",
       "\n",
       "    .dataframe thead th {\n",
       "        text-align: right;\n",
       "    }\n",
       "</style>\n",
       "<table border=\"1\" class=\"dataframe\">\n",
       "  <thead>\n",
       "    <tr style=\"text-align: right;\">\n",
       "      <th></th>\n",
       "      <th>COUPON</th>\n",
       "      <th>NEW</th>\n",
       "      <th>VACATION</th>\n",
       "      <th>SW</th>\n",
       "      <th>HI</th>\n",
       "      <th>S_INCOME</th>\n",
       "      <th>E_INCOME</th>\n",
       "      <th>S_POP</th>\n",
       "      <th>E_POP</th>\n",
       "      <th>SLOT</th>\n",
       "      <th>GATE</th>\n",
       "      <th>DISTANCE</th>\n",
       "      <th>PAX</th>\n",
       "      <th>AtleastOneHighTrafficCity</th>\n",
       "    </tr>\n",
       "  </thead>\n",
       "  <tbody>\n",
       "    <tr>\n",
       "      <th>0</th>\n",
       "      <td>1.00</td>\n",
       "      <td>3</td>\n",
       "      <td>0</td>\n",
       "      <td>1</td>\n",
       "      <td>5291.99</td>\n",
       "      <td>28637</td>\n",
       "      <td>21112</td>\n",
       "      <td>3036732</td>\n",
       "      <td>205711</td>\n",
       "      <td>1</td>\n",
       "      <td>1</td>\n",
       "      <td>312</td>\n",
       "      <td>7864</td>\n",
       "      <td>0</td>\n",
       "    </tr>\n",
       "    <tr>\n",
       "      <th>1</th>\n",
       "      <td>1.06</td>\n",
       "      <td>3</td>\n",
       "      <td>0</td>\n",
       "      <td>0</td>\n",
       "      <td>5419.16</td>\n",
       "      <td>26993</td>\n",
       "      <td>29838</td>\n",
       "      <td>3532657</td>\n",
       "      <td>7145897</td>\n",
       "      <td>1</td>\n",
       "      <td>1</td>\n",
       "      <td>576</td>\n",
       "      <td>8820</td>\n",
       "      <td>0</td>\n",
       "    </tr>\n",
       "    <tr>\n",
       "      <th>2</th>\n",
       "      <td>1.06</td>\n",
       "      <td>3</td>\n",
       "      <td>0</td>\n",
       "      <td>0</td>\n",
       "      <td>9185.28</td>\n",
       "      <td>30124</td>\n",
       "      <td>29838</td>\n",
       "      <td>5787293</td>\n",
       "      <td>7145897</td>\n",
       "      <td>1</td>\n",
       "      <td>1</td>\n",
       "      <td>364</td>\n",
       "      <td>6452</td>\n",
       "      <td>0</td>\n",
       "    </tr>\n",
       "    <tr>\n",
       "      <th>3</th>\n",
       "      <td>1.06</td>\n",
       "      <td>3</td>\n",
       "      <td>0</td>\n",
       "      <td>1</td>\n",
       "      <td>2657.35</td>\n",
       "      <td>29260</td>\n",
       "      <td>29838</td>\n",
       "      <td>7830332</td>\n",
       "      <td>7145897</td>\n",
       "      <td>0</td>\n",
       "      <td>1</td>\n",
       "      <td>612</td>\n",
       "      <td>25144</td>\n",
       "      <td>0</td>\n",
       "    </tr>\n",
       "    <tr>\n",
       "      <th>4</th>\n",
       "      <td>1.06</td>\n",
       "      <td>3</td>\n",
       "      <td>0</td>\n",
       "      <td>1</td>\n",
       "      <td>2657.35</td>\n",
       "      <td>29260</td>\n",
       "      <td>29838</td>\n",
       "      <td>7830332</td>\n",
       "      <td>7145897</td>\n",
       "      <td>1</td>\n",
       "      <td>1</td>\n",
       "      <td>612</td>\n",
       "      <td>25144</td>\n",
       "      <td>0</td>\n",
       "    </tr>\n",
       "  </tbody>\n",
       "</table>\n",
       "</div>"
      ],
      "text/plain": [
       "   COUPON  NEW  VACATION  SW       HI  S_INCOME  E_INCOME    S_POP    E_POP  \\\n",
       "0    1.00    3         0   1  5291.99     28637     21112  3036732   205711   \n",
       "1    1.06    3         0   0  5419.16     26993     29838  3532657  7145897   \n",
       "2    1.06    3         0   0  9185.28     30124     29838  5787293  7145897   \n",
       "3    1.06    3         0   1  2657.35     29260     29838  7830332  7145897   \n",
       "4    1.06    3         0   1  2657.35     29260     29838  7830332  7145897   \n",
       "\n",
       "   SLOT  GATE  DISTANCE    PAX  AtleastOneHighTrafficCity  \n",
       "0     1     1       312   7864                          0  \n",
       "1     1     1       576   8820                          0  \n",
       "2     1     1       364   6452                          0  \n",
       "3     0     1       612  25144                          0  \n",
       "4     1     1       612  25144                          0  "
      ]
     },
     "execution_count": 28,
     "metadata": {},
     "output_type": "execute_result"
    }
   ],
   "source": [
    "x.head() # to view the data present in the feature variables"
   ]
  },
  {
   "cell_type": "markdown",
   "metadata": {},
   "source": [
    "#### The above output is the data of first five records in the feature set"
   ]
  },
  {
   "cell_type": "markdown",
   "metadata": {},
   "source": [
    "#### Extracting the target variable values from the data set"
   ]
  },
  {
   "cell_type": "code",
   "execution_count": 29,
   "metadata": {},
   "outputs": [],
   "source": [
    "y=flight_numeric['FARE'] # seperating the target variable from the dataset"
   ]
  },
  {
   "cell_type": "code",
   "execution_count": 30,
   "metadata": {},
   "outputs": [
    {
     "data": {
      "text/plain": [
       "0     64.11\n",
       "1    174.47\n",
       "2    207.76\n",
       "3     85.47\n",
       "4     85.47\n",
       "Name: FARE, dtype: float64"
      ]
     },
     "execution_count": 30,
     "metadata": {},
     "output_type": "execute_result"
    }
   ],
   "source": [
    "y.head() # to view the data present in the target variable"
   ]
  },
  {
   "cell_type": "markdown",
   "metadata": {},
   "source": [
    "## 8. Collinearity"
   ]
  },
  {
   "cell_type": "markdown",
   "metadata": {},
   "source": [
    "In statistics, Collinearity is a phenomenon in which one predictor variable in a multiple regression model can be linearly predicted from the others with a substantial degree of accuracy. In this situation the coefficient estimates of the multiple regression may change erratically in response to small changes in the model or the data. Multicollinearity does not reduce the predictive power or reliability of the model as a whole, at least within the sample data set; it only affects calculations regarding individual predictors."
   ]
  },
  {
   "cell_type": "markdown",
   "metadata": {},
   "source": [
    "### 8.1. Finding Collinearity between the Variables "
   ]
  },
  {
   "cell_type": "markdown",
   "metadata": {},
   "source": [
    "Collinearity of the individual variable can be identified by calculating the variance inflation factor of each variable. Higher the VIF value higher the collinearity."
   ]
  },
  {
   "cell_type": "code",
   "execution_count": 31,
   "metadata": {},
   "outputs": [
    {
     "data": {
      "text/html": [
       "<div>\n",
       "<style scoped>\n",
       "    .dataframe tbody tr th:only-of-type {\n",
       "        vertical-align: middle;\n",
       "    }\n",
       "\n",
       "    .dataframe tbody tr th {\n",
       "        vertical-align: top;\n",
       "    }\n",
       "\n",
       "    .dataframe thead th {\n",
       "        text-align: right;\n",
       "    }\n",
       "</style>\n",
       "<table border=\"1\" class=\"dataframe\">\n",
       "  <thead>\n",
       "    <tr style=\"text-align: right;\">\n",
       "      <th></th>\n",
       "      <th>features</th>\n",
       "      <th>VIF Value</th>\n",
       "    </tr>\n",
       "  </thead>\n",
       "  <tbody>\n",
       "    <tr>\n",
       "      <th>0</th>\n",
       "      <td>COUPON</td>\n",
       "      <td>69.642955</td>\n",
       "    </tr>\n",
       "    <tr>\n",
       "      <th>1</th>\n",
       "      <td>NEW</td>\n",
       "      <td>14.105494</td>\n",
       "    </tr>\n",
       "    <tr>\n",
       "      <th>2</th>\n",
       "      <td>VACATION</td>\n",
       "      <td>1.651900</td>\n",
       "    </tr>\n",
       "    <tr>\n",
       "      <th>3</th>\n",
       "      <td>SW</td>\n",
       "      <td>1.970308</td>\n",
       "    </tr>\n",
       "    <tr>\n",
       "      <th>4</th>\n",
       "      <td>HI</td>\n",
       "      <td>10.303076</td>\n",
       "    </tr>\n",
       "    <tr>\n",
       "      <th>5</th>\n",
       "      <td>S_INCOME</td>\n",
       "      <td>60.825846</td>\n",
       "    </tr>\n",
       "    <tr>\n",
       "      <th>6</th>\n",
       "      <td>E_INCOME</td>\n",
       "      <td>45.483994</td>\n",
       "    </tr>\n",
       "    <tr>\n",
       "      <th>7</th>\n",
       "      <td>S_POP</td>\n",
       "      <td>6.283206</td>\n",
       "    </tr>\n",
       "    <tr>\n",
       "      <th>8</th>\n",
       "      <td>E_POP</td>\n",
       "      <td>4.840937</td>\n",
       "    </tr>\n",
       "    <tr>\n",
       "      <th>9</th>\n",
       "      <td>SLOT</td>\n",
       "      <td>4.753653</td>\n",
       "    </tr>\n",
       "    <tr>\n",
       "      <th>10</th>\n",
       "      <td>GATE</td>\n",
       "      <td>6.182595</td>\n",
       "    </tr>\n",
       "    <tr>\n",
       "      <th>11</th>\n",
       "      <td>DISTANCE</td>\n",
       "      <td>7.238529</td>\n",
       "    </tr>\n",
       "    <tr>\n",
       "      <th>12</th>\n",
       "      <td>PAX</td>\n",
       "      <td>4.757623</td>\n",
       "    </tr>\n",
       "    <tr>\n",
       "      <th>13</th>\n",
       "      <td>AtleastOneHighTrafficCity</td>\n",
       "      <td>1.572885</td>\n",
       "    </tr>\n",
       "  </tbody>\n",
       "</table>\n",
       "</div>"
      ],
      "text/plain": [
       "                     features  VIF Value\n",
       "0                      COUPON  69.642955\n",
       "1                         NEW  14.105494\n",
       "2                    VACATION   1.651900\n",
       "3                          SW   1.970308\n",
       "4                          HI  10.303076\n",
       "5                    S_INCOME  60.825846\n",
       "6                    E_INCOME  45.483994\n",
       "7                       S_POP   6.283206\n",
       "8                       E_POP   4.840937\n",
       "9                        SLOT   4.753653\n",
       "10                       GATE   6.182595\n",
       "11                   DISTANCE   7.238529\n",
       "12                        PAX   4.757623\n",
       "13  AtleastOneHighTrafficCity   1.572885"
      ]
     },
     "execution_count": 31,
     "metadata": {},
     "output_type": "execute_result"
    }
   ],
   "source": [
    "vif = pd.DataFrame() #creating a dataframe\n",
    "vif[\"features\"] = x.columns # adding a cloumn representing the variable names\n",
    "vif[\"VIF Value\"] = [variance_inflation_factor(x.values, i) for i in range(x.shape[1])] #calculating VIF values\n",
    "vif "
   ]
  },
  {
   "cell_type": "markdown",
   "metadata": {},
   "source": [
    "### 8.2. Removing the highly collinear variables(considering threshold as 10)"
   ]
  },
  {
   "cell_type": "code",
   "execution_count": 32,
   "metadata": {},
   "outputs": [],
   "source": [
    "x=x.drop(x.columns[[0,5]], axis=1) # dopping the variables COUPON, S_INCOME that are highly collinear"
   ]
  },
  {
   "cell_type": "code",
   "execution_count": 33,
   "metadata": {},
   "outputs": [
    {
     "data": {
      "text/html": [
       "<div>\n",
       "<style scoped>\n",
       "    .dataframe tbody tr th:only-of-type {\n",
       "        vertical-align: middle;\n",
       "    }\n",
       "\n",
       "    .dataframe tbody tr th {\n",
       "        vertical-align: top;\n",
       "    }\n",
       "\n",
       "    .dataframe thead th {\n",
       "        text-align: right;\n",
       "    }\n",
       "</style>\n",
       "<table border=\"1\" class=\"dataframe\">\n",
       "  <thead>\n",
       "    <tr style=\"text-align: right;\">\n",
       "      <th></th>\n",
       "      <th>NEW</th>\n",
       "      <th>VACATION</th>\n",
       "      <th>SW</th>\n",
       "      <th>HI</th>\n",
       "      <th>E_INCOME</th>\n",
       "      <th>S_POP</th>\n",
       "      <th>E_POP</th>\n",
       "      <th>SLOT</th>\n",
       "      <th>GATE</th>\n",
       "      <th>DISTANCE</th>\n",
       "      <th>PAX</th>\n",
       "      <th>AtleastOneHighTrafficCity</th>\n",
       "    </tr>\n",
       "  </thead>\n",
       "  <tbody>\n",
       "    <tr>\n",
       "      <th>0</th>\n",
       "      <td>3</td>\n",
       "      <td>0</td>\n",
       "      <td>1</td>\n",
       "      <td>5291.99</td>\n",
       "      <td>21112</td>\n",
       "      <td>3036732</td>\n",
       "      <td>205711</td>\n",
       "      <td>1</td>\n",
       "      <td>1</td>\n",
       "      <td>312</td>\n",
       "      <td>7864</td>\n",
       "      <td>0</td>\n",
       "    </tr>\n",
       "    <tr>\n",
       "      <th>1</th>\n",
       "      <td>3</td>\n",
       "      <td>0</td>\n",
       "      <td>0</td>\n",
       "      <td>5419.16</td>\n",
       "      <td>29838</td>\n",
       "      <td>3532657</td>\n",
       "      <td>7145897</td>\n",
       "      <td>1</td>\n",
       "      <td>1</td>\n",
       "      <td>576</td>\n",
       "      <td>8820</td>\n",
       "      <td>0</td>\n",
       "    </tr>\n",
       "    <tr>\n",
       "      <th>2</th>\n",
       "      <td>3</td>\n",
       "      <td>0</td>\n",
       "      <td>0</td>\n",
       "      <td>9185.28</td>\n",
       "      <td>29838</td>\n",
       "      <td>5787293</td>\n",
       "      <td>7145897</td>\n",
       "      <td>1</td>\n",
       "      <td>1</td>\n",
       "      <td>364</td>\n",
       "      <td>6452</td>\n",
       "      <td>0</td>\n",
       "    </tr>\n",
       "    <tr>\n",
       "      <th>3</th>\n",
       "      <td>3</td>\n",
       "      <td>0</td>\n",
       "      <td>1</td>\n",
       "      <td>2657.35</td>\n",
       "      <td>29838</td>\n",
       "      <td>7830332</td>\n",
       "      <td>7145897</td>\n",
       "      <td>0</td>\n",
       "      <td>1</td>\n",
       "      <td>612</td>\n",
       "      <td>25144</td>\n",
       "      <td>0</td>\n",
       "    </tr>\n",
       "    <tr>\n",
       "      <th>4</th>\n",
       "      <td>3</td>\n",
       "      <td>0</td>\n",
       "      <td>1</td>\n",
       "      <td>2657.35</td>\n",
       "      <td>29838</td>\n",
       "      <td>7830332</td>\n",
       "      <td>7145897</td>\n",
       "      <td>1</td>\n",
       "      <td>1</td>\n",
       "      <td>612</td>\n",
       "      <td>25144</td>\n",
       "      <td>0</td>\n",
       "    </tr>\n",
       "  </tbody>\n",
       "</table>\n",
       "</div>"
      ],
      "text/plain": [
       "   NEW  VACATION  SW       HI  E_INCOME    S_POP    E_POP  SLOT  GATE  \\\n",
       "0    3         0   1  5291.99     21112  3036732   205711     1     1   \n",
       "1    3         0   0  5419.16     29838  3532657  7145897     1     1   \n",
       "2    3         0   0  9185.28     29838  5787293  7145897     1     1   \n",
       "3    3         0   1  2657.35     29838  7830332  7145897     0     1   \n",
       "4    3         0   1  2657.35     29838  7830332  7145897     1     1   \n",
       "\n",
       "   DISTANCE    PAX  AtleastOneHighTrafficCity  \n",
       "0       312   7864                          0  \n",
       "1       576   8820                          0  \n",
       "2       364   6452                          0  \n",
       "3       612  25144                          0  \n",
       "4       612  25144                          0  "
      ]
     },
     "execution_count": 33,
     "metadata": {},
     "output_type": "execute_result"
    }
   ],
   "source": [
    "x.head()"
   ]
  },
  {
   "cell_type": "markdown",
   "metadata": {},
   "source": [
    "#### The above output is the data of the variables used to predict the target variable"
   ]
  },
  {
   "cell_type": "markdown",
   "metadata": {},
   "source": [
    "## 9. Train and Test Split"
   ]
  },
  {
   "cell_type": "markdown",
   "metadata": {},
   "source": [
    "#### Splitting the the whole data into train and test sets 75% for training and 25% for testing"
   ]
  },
  {
   "cell_type": "code",
   "execution_count": 34,
   "metadata": {},
   "outputs": [],
   "source": [
    "x_train,x_test,y_train,y_test=train_test_split(x,y,test_size=0.25,random_state=20)"
   ]
  },
  {
   "cell_type": "markdown",
   "metadata": {},
   "source": [
    "### 10. Building Models"
   ]
  },
  {
   "cell_type": "markdown",
   "metadata": {},
   "source": [
    "### A function to display the results"
   ]
  },
  {
   "cell_type": "code",
   "execution_count": 35,
   "metadata": {},
   "outputs": [],
   "source": [
    "# function displays the result by combining the test features, actual values of target variable, Predicted values\n",
    "def displayResults(ModelName,test_features,test_target,pred):\n",
    "    df1=pd.DataFrame(test_features)\n",
    "    df1=df1.reset_index(drop=True)\n",
    "    df2=pd.DataFrame(test_target)\n",
    "    df2=df2.reset_index(drop=True)\n",
    "    df3=pd.DataFrame(data=pred,columns=['Predicted Fare'])\n",
    "    out=pd.concat([df1,df2,df3], axis=1)\n",
    "    print(\"Resultant values of\",ModelName)\n",
    "    return out;\n",
    "# returns the dataframe that shows the actual and predicted values along with the test data"
   ]
  },
  {
   "cell_type": "markdown",
   "metadata": {},
   "source": [
    "### Function to visualize the results"
   ]
  },
  {
   "cell_type": "code",
   "execution_count": 36,
   "metadata": {},
   "outputs": [],
   "source": [
    "#function to plot the actual fare to the predicted fare\n",
    "def visualize(pred):\n",
    "    plt.figure(figsize=(15,8))\n",
    "    plt.plot(y_test,pred, 'o', color='blue')\n",
    "    plt.xlabel(\"actual fare\")\n",
    "    plt.ylabel(\"predicted fare\")\n",
    "    "
   ]
  },
  {
   "cell_type": "markdown",
   "metadata": {},
   "source": [
    "## 10.1. Linear Regression"
   ]
  },
  {
   "cell_type": "markdown",
   "metadata": {},
   "source": [
    "#### 10.1.1. Trainig the data on Linear Regression model"
   ]
  },
  {
   "cell_type": "code",
   "execution_count": 37,
   "metadata": {},
   "outputs": [
    {
     "data": {
      "text/plain": [
       "LinearRegression(copy_X=True, fit_intercept=True, n_jobs=1, normalize=False)"
      ]
     },
     "execution_count": 37,
     "metadata": {},
     "output_type": "execute_result"
    }
   ],
   "source": [
    "from sklearn.linear_model import LinearRegression\n",
    "# instantiate a logistic regression model, and fit with x and y\n",
    "lr = LinearRegression()\n",
    "# fitting the training set to the model\n",
    "lr.fit(x_train, y_train)"
   ]
  },
  {
   "cell_type": "code",
   "execution_count": 38,
   "metadata": {},
   "outputs": [
    {
     "name": "stdout",
     "output_type": "stream",
     "text": [
      "                                   0\n",
      "NEW                        -2.921355\n",
      "VACATION                  -39.415404\n",
      "SW                        -46.104346\n",
      "HI                          0.008244\n",
      "E_INCOME                    0.001711\n",
      "S_POP                       0.000005\n",
      "E_POP                       0.000004\n",
      "SLOT                      -15.823996\n",
      "GATE                      -18.808474\n",
      "DISTANCE                    0.075304\n",
      "PAX                        -0.000823\n",
      "AtleastOneHighTrafficCity -11.084024\n"
     ]
    }
   ],
   "source": [
    "predictors=x_train.columns\n",
    "coef=pd.DataFrame(lr.coef_,predictors)\n",
    "print(coef)"
   ]
  },
  {
   "cell_type": "code",
   "execution_count": 39,
   "metadata": {},
   "outputs": [],
   "source": [
    "# making predictions on the test set\n",
    "lr_predict = lr.predict(x_test)"
   ]
  },
  {
   "cell_type": "markdown",
   "metadata": {},
   "source": [
    "#### 10.1.2. Calculatng the model evaluation metric RMSE score"
   ]
  },
  {
   "cell_type": "code",
   "execution_count": 40,
   "metadata": {},
   "outputs": [
    {
     "name": "stdout",
     "output_type": "stream",
     "text": [
      "Root Mean Square Error: 36.626931278812684\n"
     ]
    }
   ],
   "source": [
    "# print results of RMSE of linear regression model\n",
    "lr_rmse=np.sqrt(mean_squared_error(y_test,lr_predict))\n",
    "print('Root Mean Square Error:',lr_rmse)"
   ]
  },
  {
   "cell_type": "code",
   "execution_count": 41,
   "metadata": {},
   "outputs": [
    {
     "name": "stdout",
     "output_type": "stream",
     "text": [
      "Resultant values of Linear Regression\n"
     ]
    },
    {
     "data": {
      "text/html": [
       "<div>\n",
       "<style scoped>\n",
       "    .dataframe tbody tr th:only-of-type {\n",
       "        vertical-align: middle;\n",
       "    }\n",
       "\n",
       "    .dataframe tbody tr th {\n",
       "        vertical-align: top;\n",
       "    }\n",
       "\n",
       "    .dataframe thead th {\n",
       "        text-align: right;\n",
       "    }\n",
       "</style>\n",
       "<table border=\"1\" class=\"dataframe\">\n",
       "  <thead>\n",
       "    <tr style=\"text-align: right;\">\n",
       "      <th></th>\n",
       "      <th>NEW</th>\n",
       "      <th>VACATION</th>\n",
       "      <th>SW</th>\n",
       "      <th>HI</th>\n",
       "      <th>E_INCOME</th>\n",
       "      <th>S_POP</th>\n",
       "      <th>E_POP</th>\n",
       "      <th>SLOT</th>\n",
       "      <th>GATE</th>\n",
       "      <th>DISTANCE</th>\n",
       "      <th>PAX</th>\n",
       "      <th>AtleastOneHighTrafficCity</th>\n",
       "      <th>FARE</th>\n",
       "      <th>Predicted Fare</th>\n",
       "    </tr>\n",
       "  </thead>\n",
       "  <tbody>\n",
       "    <tr>\n",
       "      <th>0</th>\n",
       "      <td>3</td>\n",
       "      <td>1</td>\n",
       "      <td>0</td>\n",
       "      <td>1833.95</td>\n",
       "      <td>24575</td>\n",
       "      <td>5787293</td>\n",
       "      <td>1197234</td>\n",
       "      <td>1</td>\n",
       "      <td>1</td>\n",
       "      <td>2372</td>\n",
       "      <td>10235</td>\n",
       "      <td>0</td>\n",
       "      <td>133.35</td>\n",
       "      <td>218.137903</td>\n",
       "    </tr>\n",
       "    <tr>\n",
       "      <th>1</th>\n",
       "      <td>3</td>\n",
       "      <td>0</td>\n",
       "      <td>0</td>\n",
       "      <td>5155.47</td>\n",
       "      <td>34880</td>\n",
       "      <td>5787293</td>\n",
       "      <td>1594251</td>\n",
       "      <td>1</td>\n",
       "      <td>1</td>\n",
       "      <td>2682</td>\n",
       "      <td>3677</td>\n",
       "      <td>0</td>\n",
       "      <td>402.02</td>\n",
       "      <td>332.792191</td>\n",
       "    </tr>\n",
       "    <tr>\n",
       "      <th>2</th>\n",
       "      <td>3</td>\n",
       "      <td>0</td>\n",
       "      <td>0</td>\n",
       "      <td>6143.20</td>\n",
       "      <td>32991</td>\n",
       "      <td>2761118</td>\n",
       "      <td>8621121</td>\n",
       "      <td>1</td>\n",
       "      <td>0</td>\n",
       "      <td>1015</td>\n",
       "      <td>13123</td>\n",
       "      <td>0</td>\n",
       "      <td>278.39</td>\n",
       "      <td>235.324447</td>\n",
       "    </tr>\n",
       "    <tr>\n",
       "      <th>3</th>\n",
       "      <td>3</td>\n",
       "      <td>0</td>\n",
       "      <td>1</td>\n",
       "      <td>4109.87</td>\n",
       "      <td>24307</td>\n",
       "      <td>7830332</td>\n",
       "      <td>989164</td>\n",
       "      <td>1</td>\n",
       "      <td>1</td>\n",
       "      <td>276</td>\n",
       "      <td>8793</td>\n",
       "      <td>0</td>\n",
       "      <td>68.06</td>\n",
       "      <td>81.904628</td>\n",
       "    </tr>\n",
       "    <tr>\n",
       "      <th>4</th>\n",
       "      <td>3</td>\n",
       "      <td>0</td>\n",
       "      <td>0</td>\n",
       "      <td>3474.23</td>\n",
       "      <td>26101</td>\n",
       "      <td>8621121</td>\n",
       "      <td>1021830</td>\n",
       "      <td>0</td>\n",
       "      <td>1</td>\n",
       "      <td>426</td>\n",
       "      <td>12883</td>\n",
       "      <td>0</td>\n",
       "      <td>154.73</td>\n",
       "      <td>153.423907</td>\n",
       "    </tr>\n",
       "  </tbody>\n",
       "</table>\n",
       "</div>"
      ],
      "text/plain": [
       "   NEW  VACATION  SW       HI  E_INCOME    S_POP    E_POP  SLOT  GATE  \\\n",
       "0    3         1   0  1833.95     24575  5787293  1197234     1     1   \n",
       "1    3         0   0  5155.47     34880  5787293  1594251     1     1   \n",
       "2    3         0   0  6143.20     32991  2761118  8621121     1     0   \n",
       "3    3         0   1  4109.87     24307  7830332   989164     1     1   \n",
       "4    3         0   0  3474.23     26101  8621121  1021830     0     1   \n",
       "\n",
       "   DISTANCE    PAX  AtleastOneHighTrafficCity    FARE  Predicted Fare  \n",
       "0      2372  10235                          0  133.35      218.137903  \n",
       "1      2682   3677                          0  402.02      332.792191  \n",
       "2      1015  13123                          0  278.39      235.324447  \n",
       "3       276   8793                          0   68.06       81.904628  \n",
       "4       426  12883                          0  154.73      153.423907  "
      ]
     },
     "execution_count": 41,
     "metadata": {},
     "output_type": "execute_result"
    }
   ],
   "source": [
    "displayResults('Linear Regression',x_test,y_test,lr_predict).head()"
   ]
  },
  {
   "cell_type": "markdown",
   "metadata": {},
   "source": [
    "#### 10.1.3.  Visualization of results"
   ]
  },
  {
   "cell_type": "code",
   "execution_count": 42,
   "metadata": {},
   "outputs": [
    {
     "data": {
      "image/png": "[encoded data removed]",
      "text/plain": [
       "<Figure size 1080x576 with 1 Axes>"
      ]
     },
     "metadata": {},
     "output_type": "display_data"
    }
   ],
   "source": [
    "visualize(lr_predict)"
   ]
  },
  {
   "cell_type": "markdown",
   "metadata": {},
   "source": [
    "## 10.2. Random Forest Regression Model"
   ]
  },
  {
   "cell_type": "markdown",
   "metadata": {},
   "source": [
    "#### 10.2.1. Trainig the data on Random Forest Regression Model"
   ]
  },
  {
   "cell_type": "code",
   "execution_count": 43,
   "metadata": {},
   "outputs": [],
   "source": [
    "from sklearn.ensemble import RandomForestRegressor"
   ]
  },
  {
   "cell_type": "code",
   "execution_count": 44,
   "metadata": {},
   "outputs": [
    {
     "data": {
      "text/plain": [
       "RandomForestRegressor(bootstrap=True, criterion='mse', max_depth=None,\n",
       "           max_features='auto', max_leaf_nodes=None,\n",
       "           min_impurity_decrease=0.0, min_impurity_split=None,\n",
       "           min_samples_leaf=1, min_samples_split=2,\n",
       "           min_weight_fraction_leaf=0.0, n_estimators=1000, n_jobs=1,\n",
       "           oob_score=False, random_state=10, verbose=0, warm_start=False)"
      ]
     },
     "execution_count": 44,
     "metadata": {},
     "output_type": "execute_result"
    }
   ],
   "source": [
    "# Instantiate model with 50 decision trees\n",
    "rf = RandomForestRegressor(n_estimators=1000,random_state=10)\n",
    "#rf = RandomForestRegressor()\n",
    "# Train the model on training data\n",
    "rf.fit(x_train, y_train)"
   ]
  },
  {
   "cell_type": "code",
   "execution_count": 45,
   "metadata": {},
   "outputs": [],
   "source": [
    "rf_predict = rf.predict(x_test)"
   ]
  },
  {
   "cell_type": "markdown",
   "metadata": {},
   "source": [
    "#### 10.2.2. Calculatng the model evaluation metric and RMSE score"
   ]
  },
  {
   "cell_type": "code",
   "execution_count": 46,
   "metadata": {},
   "outputs": [
    {
     "name": "stdout",
     "output_type": "stream",
     "text": [
      "Root Mean Square Error: 24.32037732748788\n"
     ]
    }
   ],
   "source": [
    "# print results of RMSE\n",
    "rf_rmse=np.sqrt(mean_squared_error(y_test,rf_predict))\n",
    "print('Root Mean Square Error:',rf_rmse)"
   ]
  },
  {
   "cell_type": "markdown",
   "metadata": {},
   "source": [
    "#### 10.2.3. Visualize the results"
   ]
  },
  {
   "cell_type": "code",
   "execution_count": 47,
   "metadata": {},
   "outputs": [
    {
     "data": {
      "image/png": "[encoded data removed]",
      "text/plain": [
       "<Figure size 1080x576 with 1 Axes>"
      ]
     },
     "metadata": {},
     "output_type": "display_data"
    }
   ],
   "source": [
    "visualize(rf_predict)"
   ]
  },
  {
   "cell_type": "code",
   "execution_count": 48,
   "metadata": {},
   "outputs": [
    {
     "name": "stdout",
     "output_type": "stream",
     "text": [
      "Resultant values of Random Forest Regressor\n"
     ]
    },
    {
     "data": {
      "text/html": [
       "<div>\n",
       "<style scoped>\n",
       "    .dataframe tbody tr th:only-of-type {\n",
       "        vertical-align: middle;\n",
       "    }\n",
       "\n",
       "    .dataframe tbody tr th {\n",
       "        vertical-align: top;\n",
       "    }\n",
       "\n",
       "    .dataframe thead th {\n",
       "        text-align: right;\n",
       "    }\n",
       "</style>\n",
       "<table border=\"1\" class=\"dataframe\">\n",
       "  <thead>\n",
       "    <tr style=\"text-align: right;\">\n",
       "      <th></th>\n",
       "      <th>NEW</th>\n",
       "      <th>VACATION</th>\n",
       "      <th>SW</th>\n",
       "      <th>HI</th>\n",
       "      <th>E_INCOME</th>\n",
       "      <th>S_POP</th>\n",
       "      <th>E_POP</th>\n",
       "      <th>SLOT</th>\n",
       "      <th>GATE</th>\n",
       "      <th>DISTANCE</th>\n",
       "      <th>PAX</th>\n",
       "      <th>AtleastOneHighTrafficCity</th>\n",
       "      <th>FARE</th>\n",
       "      <th>Predicted Fare</th>\n",
       "    </tr>\n",
       "  </thead>\n",
       "  <tbody>\n",
       "    <tr>\n",
       "      <th>0</th>\n",
       "      <td>3</td>\n",
       "      <td>1</td>\n",
       "      <td>0</td>\n",
       "      <td>1833.95</td>\n",
       "      <td>24575</td>\n",
       "      <td>5787293</td>\n",
       "      <td>1197234</td>\n",
       "      <td>1</td>\n",
       "      <td>1</td>\n",
       "      <td>2372</td>\n",
       "      <td>10235</td>\n",
       "      <td>0</td>\n",
       "      <td>133.35</td>\n",
       "      <td>198.42385</td>\n",
       "    </tr>\n",
       "    <tr>\n",
       "      <th>1</th>\n",
       "      <td>3</td>\n",
       "      <td>0</td>\n",
       "      <td>0</td>\n",
       "      <td>5155.47</td>\n",
       "      <td>34880</td>\n",
       "      <td>5787293</td>\n",
       "      <td>1594251</td>\n",
       "      <td>1</td>\n",
       "      <td>1</td>\n",
       "      <td>2682</td>\n",
       "      <td>3677</td>\n",
       "      <td>0</td>\n",
       "      <td>402.02</td>\n",
       "      <td>331.38118</td>\n",
       "    </tr>\n",
       "    <tr>\n",
       "      <th>2</th>\n",
       "      <td>3</td>\n",
       "      <td>0</td>\n",
       "      <td>0</td>\n",
       "      <td>6143.20</td>\n",
       "      <td>32991</td>\n",
       "      <td>2761118</td>\n",
       "      <td>8621121</td>\n",
       "      <td>1</td>\n",
       "      <td>0</td>\n",
       "      <td>1015</td>\n",
       "      <td>13123</td>\n",
       "      <td>0</td>\n",
       "      <td>278.39</td>\n",
       "      <td>253.87816</td>\n",
       "    </tr>\n",
       "    <tr>\n",
       "      <th>3</th>\n",
       "      <td>3</td>\n",
       "      <td>0</td>\n",
       "      <td>1</td>\n",
       "      <td>4109.87</td>\n",
       "      <td>24307</td>\n",
       "      <td>7830332</td>\n",
       "      <td>989164</td>\n",
       "      <td>1</td>\n",
       "      <td>1</td>\n",
       "      <td>276</td>\n",
       "      <td>8793</td>\n",
       "      <td>0</td>\n",
       "      <td>68.06</td>\n",
       "      <td>65.89517</td>\n",
       "    </tr>\n",
       "    <tr>\n",
       "      <th>4</th>\n",
       "      <td>3</td>\n",
       "      <td>0</td>\n",
       "      <td>0</td>\n",
       "      <td>3474.23</td>\n",
       "      <td>26101</td>\n",
       "      <td>8621121</td>\n",
       "      <td>1021830</td>\n",
       "      <td>0</td>\n",
       "      <td>1</td>\n",
       "      <td>426</td>\n",
       "      <td>12883</td>\n",
       "      <td>0</td>\n",
       "      <td>154.73</td>\n",
       "      <td>151.25973</td>\n",
       "    </tr>\n",
       "  </tbody>\n",
       "</table>\n",
       "</div>"
      ],
      "text/plain": [
       "   NEW  VACATION  SW       HI  E_INCOME    S_POP    E_POP  SLOT  GATE  \\\n",
       "0    3         1   0  1833.95     24575  5787293  1197234     1     1   \n",
       "1    3         0   0  5155.47     34880  5787293  1594251     1     1   \n",
       "2    3         0   0  6143.20     32991  2761118  8621121     1     0   \n",
       "3    3         0   1  4109.87     24307  7830332   989164     1     1   \n",
       "4    3         0   0  3474.23     26101  8621121  1021830     0     1   \n",
       "\n",
       "   DISTANCE    PAX  AtleastOneHighTrafficCity    FARE  Predicted Fare  \n",
       "0      2372  10235                          0  133.35       198.42385  \n",
       "1      2682   3677                          0  402.02       331.38118  \n",
       "2      1015  13123                          0  278.39       253.87816  \n",
       "3       276   8793                          0   68.06        65.89517  \n",
       "4       426  12883                          0  154.73       151.25973  "
      ]
     },
     "execution_count": 48,
     "metadata": {},
     "output_type": "execute_result"
    }
   ],
   "source": [
    "displayResults('Random Forest Regressor',x_test,y_test,rf_predict).head()"
   ]
  },
  {
   "cell_type": "markdown",
   "metadata": {},
   "source": [
    "## 10.3. XGBoost Model"
   ]
  },
  {
   "cell_type": "markdown",
   "metadata": {},
   "source": [
    "#### 10.3.1. Training of data using XGBOOST on Gamma Regression."
   ]
  },
  {
   "cell_type": "code",
   "execution_count": 49,
   "metadata": {},
   "outputs": [],
   "source": [
    "import xgboost as xgb"
   ]
  },
  {
   "cell_type": "code",
   "execution_count": 50,
   "metadata": {},
   "outputs": [
    {
     "data": {
      "text/plain": [
       "XGBRegressor(base_score=0.5, booster='gbtree', colsample_bylevel=1,\n",
       "       colsample_bytree=1, gamma=0, learning_rate=0.1, max_delta_step=0,\n",
       "       max_depth=3, min_child_weight=1, missing=None, n_estimators=1000,\n",
       "       n_jobs=1, nround=50, nthread=None, objective='reg:gamma',\n",
       "       random_state=0, reg_alpha=0, reg_lambda=1, scale_pos_weight=1,\n",
       "       seed=None, silent=True, subsample=1)"
      ]
     },
     "execution_count": 50,
     "metadata": {},
     "output_type": "execute_result"
    }
   ],
   "source": [
    "# Instantiate model \n",
    "my_model = xgb.XGBRegressor(objective ='reg:gamma',nround=50,n_estimators = 1000)\n",
    "# Train the model on training data\n",
    "my_model.fit(x_train, y_train, verbose=False)"
   ]
  },
  {
   "cell_type": "code",
   "execution_count": 51,
   "metadata": {},
   "outputs": [],
   "source": [
    "# make predictions\n",
    "predictions = my_model.predict(x_test)"
   ]
  },
  {
   "cell_type": "markdown",
   "metadata": {},
   "source": [
    "#### 10.3.2. Calculatng the model evaluation metric and RMSE score"
   ]
  },
  {
   "cell_type": "code",
   "execution_count": 52,
   "metadata": {},
   "outputs": [
    {
     "name": "stdout",
     "output_type": "stream",
     "text": [
      "Root Mean Square Error: 18.21771700419215\n"
     ]
    }
   ],
   "source": [
    "# print results of RMSE\n",
    "xgb_rmse=np.sqrt(mean_squared_error(y_test,predictions))\n",
    "print('Root Mean Square Error:',xgb_rmse)"
   ]
  },
  {
   "cell_type": "code",
   "execution_count": 53,
   "metadata": {},
   "outputs": [
    {
     "name": "stdout",
     "output_type": "stream",
     "text": [
      "Resultant values of XGBoost Regressor\n"
     ]
    },
    {
     "data": {
      "text/html": [
       "<div>\n",
       "<style scoped>\n",
       "    .dataframe tbody tr th:only-of-type {\n",
       "        vertical-align: middle;\n",
       "    }\n",
       "\n",
       "    .dataframe tbody tr th {\n",
       "        vertical-align: top;\n",
       "    }\n",
       "\n",
       "    .dataframe thead th {\n",
       "        text-align: right;\n",
       "    }\n",
       "</style>\n",
       "<table border=\"1\" class=\"dataframe\">\n",
       "  <thead>\n",
       "    <tr style=\"text-align: right;\">\n",
       "      <th></th>\n",
       "      <th>NEW</th>\n",
       "      <th>VACATION</th>\n",
       "      <th>SW</th>\n",
       "      <th>HI</th>\n",
       "      <th>E_INCOME</th>\n",
       "      <th>S_POP</th>\n",
       "      <th>E_POP</th>\n",
       "      <th>SLOT</th>\n",
       "      <th>GATE</th>\n",
       "      <th>DISTANCE</th>\n",
       "      <th>PAX</th>\n",
       "      <th>AtleastOneHighTrafficCity</th>\n",
       "      <th>FARE</th>\n",
       "      <th>Predicted Fare</th>\n",
       "    </tr>\n",
       "  </thead>\n",
       "  <tbody>\n",
       "    <tr>\n",
       "      <th>0</th>\n",
       "      <td>3</td>\n",
       "      <td>1</td>\n",
       "      <td>0</td>\n",
       "      <td>1833.95</td>\n",
       "      <td>24575</td>\n",
       "      <td>5787293</td>\n",
       "      <td>1197234</td>\n",
       "      <td>1</td>\n",
       "      <td>1</td>\n",
       "      <td>2372</td>\n",
       "      <td>10235</td>\n",
       "      <td>0</td>\n",
       "      <td>133.35</td>\n",
       "      <td>159.740204</td>\n",
       "    </tr>\n",
       "    <tr>\n",
       "      <th>1</th>\n",
       "      <td>3</td>\n",
       "      <td>0</td>\n",
       "      <td>0</td>\n",
       "      <td>5155.47</td>\n",
       "      <td>34880</td>\n",
       "      <td>5787293</td>\n",
       "      <td>1594251</td>\n",
       "      <td>1</td>\n",
       "      <td>1</td>\n",
       "      <td>2682</td>\n",
       "      <td>3677</td>\n",
       "      <td>0</td>\n",
       "      <td>402.02</td>\n",
       "      <td>373.135559</td>\n",
       "    </tr>\n",
       "    <tr>\n",
       "      <th>2</th>\n",
       "      <td>3</td>\n",
       "      <td>0</td>\n",
       "      <td>0</td>\n",
       "      <td>6143.20</td>\n",
       "      <td>32991</td>\n",
       "      <td>2761118</td>\n",
       "      <td>8621121</td>\n",
       "      <td>1</td>\n",
       "      <td>0</td>\n",
       "      <td>1015</td>\n",
       "      <td>13123</td>\n",
       "      <td>0</td>\n",
       "      <td>278.39</td>\n",
       "      <td>266.638062</td>\n",
       "    </tr>\n",
       "    <tr>\n",
       "      <th>3</th>\n",
       "      <td>3</td>\n",
       "      <td>0</td>\n",
       "      <td>1</td>\n",
       "      <td>4109.87</td>\n",
       "      <td>24307</td>\n",
       "      <td>7830332</td>\n",
       "      <td>989164</td>\n",
       "      <td>1</td>\n",
       "      <td>1</td>\n",
       "      <td>276</td>\n",
       "      <td>8793</td>\n",
       "      <td>0</td>\n",
       "      <td>68.06</td>\n",
       "      <td>66.377510</td>\n",
       "    </tr>\n",
       "    <tr>\n",
       "      <th>4</th>\n",
       "      <td>3</td>\n",
       "      <td>0</td>\n",
       "      <td>0</td>\n",
       "      <td>3474.23</td>\n",
       "      <td>26101</td>\n",
       "      <td>8621121</td>\n",
       "      <td>1021830</td>\n",
       "      <td>0</td>\n",
       "      <td>1</td>\n",
       "      <td>426</td>\n",
       "      <td>12883</td>\n",
       "      <td>0</td>\n",
       "      <td>154.73</td>\n",
       "      <td>151.951660</td>\n",
       "    </tr>\n",
       "  </tbody>\n",
       "</table>\n",
       "</div>"
      ],
      "text/plain": [
       "   NEW  VACATION  SW       HI  E_INCOME    S_POP    E_POP  SLOT  GATE  \\\n",
       "0    3         1   0  1833.95     24575  5787293  1197234     1     1   \n",
       "1    3         0   0  5155.47     34880  5787293  1594251     1     1   \n",
       "2    3         0   0  6143.20     32991  2761118  8621121     1     0   \n",
       "3    3         0   1  4109.87     24307  7830332   989164     1     1   \n",
       "4    3         0   0  3474.23     26101  8621121  1021830     0     1   \n",
       "\n",
       "   DISTANCE    PAX  AtleastOneHighTrafficCity    FARE  Predicted Fare  \n",
       "0      2372  10235                          0  133.35      159.740204  \n",
       "1      2682   3677                          0  402.02      373.135559  \n",
       "2      1015  13123                          0  278.39      266.638062  \n",
       "3       276   8793                          0   68.06       66.377510  \n",
       "4       426  12883                          0  154.73      151.951660  "
      ]
     },
     "execution_count": 53,
     "metadata": {},
     "output_type": "execute_result"
    }
   ],
   "source": [
    "displayResults('XGBoost Regressor',x_test,y_test,predictions).head()"
   ]
  },
  {
   "cell_type": "markdown",
   "metadata": {},
   "source": [
    "#### 10.3.3. Visualize the results"
   ]
  },
  {
   "cell_type": "code",
   "execution_count": 54,
   "metadata": {},
   "outputs": [
    {
     "data": {
      "image/png": "[encoded data removed]",
      "text/plain": [
       "<Figure size 1080x576 with 1 Axes>"
      ]
     },
     "metadata": {},
     "output_type": "display_data"
    }
   ],
   "source": [
    "visualize(predictions)"
   ]
  },
  {
   "cell_type": "code",
   "execution_count": 58,
   "metadata": {},
   "outputs": [
    {
     "data": {
      "text/plain": [
       "0.921651566261162"
      ]
     },
     "execution_count": 58,
     "metadata": {},
     "output_type": "execute_result"
    }
   ],
   "source": [
    "score=r2_score(y_test,predictions)\n",
    "score"
   ]
  },
  {
   "cell_type": "markdown",
   "metadata": {},
   "source": [
    "## 11. Comparison of Mean Square Error in diff Algorithms"
   ]
  },
  {
   "cell_type": "code",
   "execution_count": 201,
   "metadata": {},
   "outputs": [],
   "source": [
    "root_mean_square_err_list=[lr_rmse,rf_rmse,xgb_rmse] # list of rmse values of three models\n",
    "model_name=['Linear_Regression','Random_Forest','XGBoost'] # list of the names of the algorithms"
   ]
  },
  {
   "cell_type": "code",
   "execution_count": 290,
   "metadata": {},
   "outputs": [
    {
     "data": {
      "image/png": "[encoded data removed]",
      "text/plain": [
       "<Figure size 1080x360 with 1 Axes>"
      ]
     },
     "metadata": {},
     "output_type": "display_data"
    }
   ],
   "source": [
    "y_pos = np.arange(len(model_name)) # setting the renge of y-axis\n",
    "plt.figure(figsize=(15,5)) # size of the chart\n",
    "bar1 = plt.bar(y_pos, root_mean_square_err_list, align='center', alpha=0.7) # constructing the bar chart\n",
    "for i,rect in enumerate(bar1): \n",
    "    height = rect.get_height()\n",
    "    plt.text(rect.get_x() + rect.get_width()/2.0, height, '%.3f' % float(root_mean_square_err_list[i]), ha='center', va='bottom')\n",
    "\n",
    "plt.xticks(y_pos, model_name)\n",
    "plt.ylabel('Root mean square error')\n",
    "plt.title('Comparison of Root mean square error in diff Supervised ML Algorithms')\n",
    "plt.savefig('RMSE_vs_algo.png')\n",
    "plt.show()"
   ]
  },
  {
   "cell_type": "markdown",
   "metadata": {},
   "source": [
    "#### XGBoost algorithm performs better in predicting the fare, compared to Linear regression and Random forest Regressor models"
   ]
  },
  {
   "cell_type": "code",
   "execution_count": null,
   "metadata": {},
   "outputs": [],
   "source": []
  }
 ],
 "metadata": {
  "kernelspec": {
   "display_name": "Python 3",
   "language": "python",
   "name": "python3"
  },
  "language_info": {
   "codemirror_mode": {
    "name": "ipython",
    "version": 3
   },
   "file_extension": ".py",
   "mimetype": "text/x-python",
   "name": "python",
   "nbconvert_exporter": "python",
   "pygments_lexer": "ipython3",
   "version": "3.6.5"
  }
 },
 "nbformat": 4,
 "nbformat_minor": 2
}
